{
 "cells": [
  {
   "cell_type": "markdown",
   "id": "a6974519",
   "metadata": {},
   "source": [
    "**Import Basic Libraries**"
   ]
  },
  {
   "cell_type": "code",
   "execution_count": 1,
   "id": "436b1292",
   "metadata": {},
   "outputs": [],
   "source": [
    "import numpy as np\n",
    "import pandas as pd\n",
    "from matplotlib import pyplot as plt"
   ]
  },
  {
   "cell_type": "markdown",
   "id": "e0e28b77",
   "metadata": {},
   "source": [
    "**Load Dataset**"
   ]
  },
  {
   "cell_type": "code",
   "execution_count": 2,
   "id": "07268cc3",
   "metadata": {},
   "outputs": [],
   "source": [
    "df = pd.read_csv(r\"D:\\My Items\\Coding\\SmartReviewFilter\\data\\electronics.csv\")"
   ]
  },
  {
   "cell_type": "markdown",
   "id": "3b7d4ade",
   "metadata": {},
   "source": [
    "Shorten the dataset"
   ]
  },
  {
   "cell_type": "code",
   "execution_count": 3,
   "id": "3b8a496d",
   "metadata": {},
   "outputs": [],
   "source": [
    "# df = df.sample(n=25000, random_state=42).reset_index(drop=True)\n",
    "# df.head()"
   ]
  },
  {
   "cell_type": "markdown",
   "id": "c7e38365",
   "metadata": {},
   "source": [
    "**Dropping Unnecessary Columns**"
   ]
  },
  {
   "cell_type": "code",
   "execution_count": 4,
   "id": "759e30ff",
   "metadata": {},
   "outputs": [
    {
     "data": {
      "text/html": [
       "<div>\n",
       "<style scoped>\n",
       "    .dataframe tbody tr th:only-of-type {\n",
       "        vertical-align: middle;\n",
       "    }\n",
       "\n",
       "    .dataframe tbody tr th {\n",
       "        vertical-align: top;\n",
       "    }\n",
       "\n",
       "    .dataframe thead th {\n",
       "        text-align: right;\n",
       "    }\n",
       "</style>\n",
       "<table border=\"1\" class=\"dataframe\">\n",
       "  <thead>\n",
       "    <tr style=\"text-align: right;\">\n",
       "      <th></th>\n",
       "      <th>reviewerID</th>\n",
       "      <th>helpful</th>\n",
       "      <th>reviewText</th>\n",
       "      <th>overall</th>\n",
       "      <th>summary</th>\n",
       "      <th>unixReviewTime</th>\n",
       "      <th>class</th>\n",
       "    </tr>\n",
       "  </thead>\n",
       "  <tbody>\n",
       "    <tr>\n",
       "      <th>0</th>\n",
       "      <td>ADKVDDYRW56UB</td>\n",
       "      <td>[0, 0]</td>\n",
       "      <td>Can't really say much about this other than th...</td>\n",
       "      <td>5.0</td>\n",
       "      <td>Good CD's</td>\n",
       "      <td>1341446400</td>\n",
       "      <td>1.0</td>\n",
       "    </tr>\n",
       "    <tr>\n",
       "      <th>1</th>\n",
       "      <td>A2F8IHET2WY0XP</td>\n",
       "      <td>[0, 0]</td>\n",
       "      <td>This case came and it is really awesome. But i...</td>\n",
       "      <td>5.0</td>\n",
       "      <td>Great case and a good deal.</td>\n",
       "      <td>1390176000</td>\n",
       "      <td>1.0</td>\n",
       "    </tr>\n",
       "    <tr>\n",
       "      <th>2</th>\n",
       "      <td>AYGHD53QKX480</td>\n",
       "      <td>[0, 0]</td>\n",
       "      <td>I used these to change out the OEM fans in myN...</td>\n",
       "      <td>5.0</td>\n",
       "      <td>Quiet and powerful!</td>\n",
       "      <td>1344297600</td>\n",
       "      <td>1.0</td>\n",
       "    </tr>\n",
       "    <tr>\n",
       "      <th>3</th>\n",
       "      <td>AY16GWUDYFPPA</td>\n",
       "      <td>[0, 0]</td>\n",
       "      <td>Using it on my new MacBook 13\" with Thunderbol...</td>\n",
       "      <td>1.0</td>\n",
       "      <td>You get what you pay for, performance is terrible</td>\n",
       "      <td>1303776000</td>\n",
       "      <td>0.0</td>\n",
       "    </tr>\n",
       "    <tr>\n",
       "      <th>4</th>\n",
       "      <td>A3I8H7F0MW5BX0</td>\n",
       "      <td>[0, 0]</td>\n",
       "      <td>I bought this case for my husband because the ...</td>\n",
       "      <td>1.0</td>\n",
       "      <td>color different than shown.</td>\n",
       "      <td>1361145600</td>\n",
       "      <td>0.0</td>\n",
       "    </tr>\n",
       "    <tr>\n",
       "      <th>...</th>\n",
       "      <td>...</td>\n",
       "      <td>...</td>\n",
       "      <td>...</td>\n",
       "      <td>...</td>\n",
       "      <td>...</td>\n",
       "      <td>...</td>\n",
       "      <td>...</td>\n",
       "    </tr>\n",
       "    <tr>\n",
       "      <th>99995</th>\n",
       "      <td>A1GWIONPEVAOOC</td>\n",
       "      <td>[0, 0]</td>\n",
       "      <td>i used this headphone for monitoring tracking ...</td>\n",
       "      <td>5.0</td>\n",
       "      <td>pretty decent</td>\n",
       "      <td>1353196800</td>\n",
       "      <td>1.0</td>\n",
       "    </tr>\n",
       "    <tr>\n",
       "      <th>99996</th>\n",
       "      <td>ASXY7UL8PDMU4</td>\n",
       "      <td>[0, 0]</td>\n",
       "      <td>It's super tough and awesome. It's easy to put...</td>\n",
       "      <td>5.0</td>\n",
       "      <td>Love it</td>\n",
       "      <td>1374451200</td>\n",
       "      <td>1.0</td>\n",
       "    </tr>\n",
       "    <tr>\n",
       "      <th>99997</th>\n",
       "      <td>A3LHZQMWBJBSLU</td>\n",
       "      <td>[1, 1]</td>\n",
       "      <td>This band implies that one size will fit all. ...</td>\n",
       "      <td>2.0</td>\n",
       "      <td>Beware. Not a Universal Fit</td>\n",
       "      <td>1370390400</td>\n",
       "      <td>0.0</td>\n",
       "    </tr>\n",
       "    <tr>\n",
       "      <th>99998</th>\n",
       "      <td>A34Z7D2RD0LNQW</td>\n",
       "      <td>[12, 12]</td>\n",
       "      <td>My 1st GPS unit, so my rating of \"5\" is admitt...</td>\n",
       "      <td>5.0</td>\n",
       "      <td>Garmin Quest Pocket-sized GPS Navigator</td>\n",
       "      <td>1142640000</td>\n",
       "      <td>1.0</td>\n",
       "    </tr>\n",
       "    <tr>\n",
       "      <th>99999</th>\n",
       "      <td>A352LWSLEW8HTB</td>\n",
       "      <td>[28, 32]</td>\n",
       "      <td>Ok, I was ecstatic when I first thought about ...</td>\n",
       "      <td>2.0</td>\n",
       "      <td>Are these headphones or a PC modem dialing up??</td>\n",
       "      <td>1114992000</td>\n",
       "      <td>0.0</td>\n",
       "    </tr>\n",
       "  </tbody>\n",
       "</table>\n",
       "<p>100000 rows × 7 columns</p>\n",
       "</div>"
      ],
      "text/plain": [
       "           reviewerID   helpful  \\\n",
       "0       ADKVDDYRW56UB    [0, 0]   \n",
       "1      A2F8IHET2WY0XP    [0, 0]   \n",
       "2       AYGHD53QKX480    [0, 0]   \n",
       "3       AY16GWUDYFPPA    [0, 0]   \n",
       "4      A3I8H7F0MW5BX0    [0, 0]   \n",
       "...               ...       ...   \n",
       "99995  A1GWIONPEVAOOC    [0, 0]   \n",
       "99996   ASXY7UL8PDMU4    [0, 0]   \n",
       "99997  A3LHZQMWBJBSLU    [1, 1]   \n",
       "99998  A34Z7D2RD0LNQW  [12, 12]   \n",
       "99999  A352LWSLEW8HTB  [28, 32]   \n",
       "\n",
       "                                              reviewText  overall  \\\n",
       "0      Can't really say much about this other than th...      5.0   \n",
       "1      This case came and it is really awesome. But i...      5.0   \n",
       "2      I used these to change out the OEM fans in myN...      5.0   \n",
       "3      Using it on my new MacBook 13\" with Thunderbol...      1.0   \n",
       "4      I bought this case for my husband because the ...      1.0   \n",
       "...                                                  ...      ...   \n",
       "99995  i used this headphone for monitoring tracking ...      5.0   \n",
       "99996  It's super tough and awesome. It's easy to put...      5.0   \n",
       "99997  This band implies that one size will fit all. ...      2.0   \n",
       "99998  My 1st GPS unit, so my rating of \"5\" is admitt...      5.0   \n",
       "99999  Ok, I was ecstatic when I first thought about ...      2.0   \n",
       "\n",
       "                                                 summary  unixReviewTime  \\\n",
       "0                                              Good CD's      1341446400   \n",
       "1                            Great case and a good deal.      1390176000   \n",
       "2                                    Quiet and powerful!      1344297600   \n",
       "3      You get what you pay for, performance is terrible      1303776000   \n",
       "4                            color different than shown.      1361145600   \n",
       "...                                                  ...             ...   \n",
       "99995                                      pretty decent      1353196800   \n",
       "99996                                            Love it      1374451200   \n",
       "99997                        Beware. Not a Universal Fit      1370390400   \n",
       "99998            Garmin Quest Pocket-sized GPS Navigator      1142640000   \n",
       "99999    Are these headphones or a PC modem dialing up??      1114992000   \n",
       "\n",
       "       class  \n",
       "0        1.0  \n",
       "1        1.0  \n",
       "2        1.0  \n",
       "3        0.0  \n",
       "4        0.0  \n",
       "...      ...  \n",
       "99995    1.0  \n",
       "99996    1.0  \n",
       "99997    0.0  \n",
       "99998    1.0  \n",
       "99999    0.0  \n",
       "\n",
       "[100000 rows x 7 columns]"
      ]
     },
     "execution_count": 4,
     "metadata": {},
     "output_type": "execute_result"
    }
   ],
   "source": [
    "df = df.drop(columns=['_id','asin','reviewerName','reviewTime','category'])\n",
    "df"
   ]
  },
  {
   "cell_type": "markdown",
   "id": "abce1203",
   "metadata": {},
   "source": [
    "**DATA PREPROCESSING**"
   ]
  },
  {
   "cell_type": "markdown",
   "id": "037f8ee4",
   "metadata": {},
   "source": [
    "Class Balance"
   ]
  },
  {
   "cell_type": "code",
   "execution_count": 5,
   "id": "90614bf7",
   "metadata": {},
   "outputs": [
    {
     "data": {
      "text/plain": [
       "class\n",
       "1.0    75914\n",
       "0.0    24086\n",
       "Name: count, dtype: int64"
      ]
     },
     "execution_count": 5,
     "metadata": {},
     "output_type": "execute_result"
    }
   ],
   "source": [
    "df['class'].value_counts()"
   ]
  },
  {
   "cell_type": "code",
   "execution_count": 6,
   "id": "a4a886f0",
   "metadata": {},
   "outputs": [],
   "source": [
    "minority_df = df[df['class'] == 0.0]\n",
    "majority_df = df[df['class'] == 1.0].sample(n=len(minority_df), random_state=42)\n",
    "\n",
    "df = pd.concat([minority_df, majority_df]).sample(frac=1, random_state=42).reset_index(drop=True)"
   ]
  },
  {
   "cell_type": "markdown",
   "id": "e50fdb5f",
   "metadata": {},
   "source": [
    "Converting unix review time to date time format"
   ]
  },
  {
   "cell_type": "code",
   "execution_count": 7,
   "id": "412b0741",
   "metadata": {},
   "outputs": [],
   "source": [
    "df['reviewTime'] = pd.to_datetime(df['unixReviewTime'], unit='s')\n",
    "df.drop(columns=['unixReviewTime'], inplace=True)"
   ]
  },
  {
   "cell_type": "markdown",
   "id": "483f36b7",
   "metadata": {},
   "source": [
    "Lowercase the text"
   ]
  },
  {
   "cell_type": "code",
   "execution_count": 8,
   "id": "da2168eb",
   "metadata": {},
   "outputs": [],
   "source": [
    "df['reviewText'] = df['reviewText'].astype(str).str.lower()\n",
    "df['summary'] = df['summary'].astype(str).str.lower()"
   ]
  },
  {
   "cell_type": "markdown",
   "id": "fe793798",
   "metadata": {},
   "source": [
    "Handle missing values"
   ]
  },
  {
   "cell_type": "code",
   "execution_count": 9,
   "id": "a879cbe1",
   "metadata": {},
   "outputs": [
    {
     "data": {
      "text/plain": [
       "reviewerID    0\n",
       "helpful       0\n",
       "reviewText    0\n",
       "overall       0\n",
       "summary       0\n",
       "class         0\n",
       "reviewTime    0\n",
       "dtype: int64"
      ]
     },
     "execution_count": 9,
     "metadata": {},
     "output_type": "execute_result"
    }
   ],
   "source": [
    "df.isna().sum()"
   ]
  },
  {
   "cell_type": "markdown",
   "id": "962f341c",
   "metadata": {},
   "source": [
    "Combining review text and summary "
   ]
  },
  {
   "cell_type": "code",
   "execution_count": 10,
   "id": "68ca2492",
   "metadata": {},
   "outputs": [
    {
     "data": {
      "text/html": [
       "<div>\n",
       "<style scoped>\n",
       "    .dataframe tbody tr th:only-of-type {\n",
       "        vertical-align: middle;\n",
       "    }\n",
       "\n",
       "    .dataframe tbody tr th {\n",
       "        vertical-align: top;\n",
       "    }\n",
       "\n",
       "    .dataframe thead th {\n",
       "        text-align: right;\n",
       "    }\n",
       "</style>\n",
       "<table border=\"1\" class=\"dataframe\">\n",
       "  <thead>\n",
       "    <tr style=\"text-align: right;\">\n",
       "      <th></th>\n",
       "      <th>reviewerID</th>\n",
       "      <th>helpful</th>\n",
       "      <th>overall</th>\n",
       "      <th>class</th>\n",
       "      <th>reviewTime</th>\n",
       "      <th>text</th>\n",
       "    </tr>\n",
       "  </thead>\n",
       "  <tbody>\n",
       "    <tr>\n",
       "      <th>0</th>\n",
       "      <td>A20QWZMNCFYCON</td>\n",
       "      <td>[2, 2]</td>\n",
       "      <td>4.0</td>\n",
       "      <td>1.0</td>\n",
       "      <td>2011-02-27</td>\n",
       "      <td>good quality, entry-level headphones. i purcha...</td>\n",
       "    </tr>\n",
       "    <tr>\n",
       "      <th>1</th>\n",
       "      <td>AOBKR23R5VC0A</td>\n",
       "      <td>[4, 4]</td>\n",
       "      <td>3.0</td>\n",
       "      <td>0.0</td>\n",
       "      <td>2011-10-20</td>\n",
       "      <td>be careful! previously used and sold as new. p...</td>\n",
       "    </tr>\n",
       "    <tr>\n",
       "      <th>2</th>\n",
       "      <td>A9TG1D8V9FUBE</td>\n",
       "      <td>[0, 0]</td>\n",
       "      <td>5.0</td>\n",
       "      <td>1.0</td>\n",
       "      <td>2014-04-21</td>\n",
       "      <td>great speakers at a reasonable price. i never ...</td>\n",
       "    </tr>\n",
       "    <tr>\n",
       "      <th>3</th>\n",
       "      <td>A2HMQAWU66BQN</td>\n",
       "      <td>[0, 2]</td>\n",
       "      <td>1.0</td>\n",
       "      <td>0.0</td>\n",
       "      <td>2012-05-18</td>\n",
       "      <td>never again. i have never had a bad purchase f...</td>\n",
       "    </tr>\n",
       "    <tr>\n",
       "      <th>4</th>\n",
       "      <td>A2Q4W76MM2HKMT</td>\n",
       "      <td>[5, 9]</td>\n",
       "      <td>1.0</td>\n",
       "      <td>0.0</td>\n",
       "      <td>2014-03-06</td>\n",
       "      <td>poor, incompetent support &amp; does not work with...</td>\n",
       "    </tr>\n",
       "    <tr>\n",
       "      <th>...</th>\n",
       "      <td>...</td>\n",
       "      <td>...</td>\n",
       "      <td>...</td>\n",
       "      <td>...</td>\n",
       "      <td>...</td>\n",
       "      <td>...</td>\n",
       "    </tr>\n",
       "    <tr>\n",
       "      <th>48167</th>\n",
       "      <td>A2Y6UWH2GPW8CZ</td>\n",
       "      <td>[0, 0]</td>\n",
       "      <td>1.0</td>\n",
       "      <td>0.0</td>\n",
       "      <td>2014-01-14</td>\n",
       "      <td>this bulb will not last long at all. stopped w...</td>\n",
       "    </tr>\n",
       "    <tr>\n",
       "      <th>48168</th>\n",
       "      <td>A1FTF7K2ZH21PB</td>\n",
       "      <td>[0, 0]</td>\n",
       "      <td>5.0</td>\n",
       "      <td>1.0</td>\n",
       "      <td>2014-01-11</td>\n",
       "      <td>perefct for my needs. they work as expected. t...</td>\n",
       "    </tr>\n",
       "    <tr>\n",
       "      <th>48169</th>\n",
       "      <td>AUX6CQ7FOTSHV</td>\n",
       "      <td>[0, 0]</td>\n",
       "      <td>5.0</td>\n",
       "      <td>1.0</td>\n",
       "      <td>2014-02-15</td>\n",
       "      <td>worked as intended. the first unit had some co...</td>\n",
       "    </tr>\n",
       "    <tr>\n",
       "      <th>48170</th>\n",
       "      <td>A2WB4OWBUH2VQX</td>\n",
       "      <td>[1, 1]</td>\n",
       "      <td>2.0</td>\n",
       "      <td>0.0</td>\n",
       "      <td>2013-01-28</td>\n",
       "      <td>i've tried several cases and this one is not g...</td>\n",
       "    </tr>\n",
       "    <tr>\n",
       "      <th>48171</th>\n",
       "      <td>A16RCCC0YK7M7L</td>\n",
       "      <td>[0, 0]</td>\n",
       "      <td>3.0</td>\n",
       "      <td>0.0</td>\n",
       "      <td>2012-10-11</td>\n",
       "      <td>didn't hold up. i bought this adapter almost e...</td>\n",
       "    </tr>\n",
       "  </tbody>\n",
       "</table>\n",
       "<p>48172 rows × 6 columns</p>\n",
       "</div>"
      ],
      "text/plain": [
       "           reviewerID helpful  overall  class reviewTime  \\\n",
       "0      A20QWZMNCFYCON  [2, 2]      4.0    1.0 2011-02-27   \n",
       "1       AOBKR23R5VC0A  [4, 4]      3.0    0.0 2011-10-20   \n",
       "2       A9TG1D8V9FUBE  [0, 0]      5.0    1.0 2014-04-21   \n",
       "3       A2HMQAWU66BQN  [0, 2]      1.0    0.0 2012-05-18   \n",
       "4      A2Q4W76MM2HKMT  [5, 9]      1.0    0.0 2014-03-06   \n",
       "...               ...     ...      ...    ...        ...   \n",
       "48167  A2Y6UWH2GPW8CZ  [0, 0]      1.0    0.0 2014-01-14   \n",
       "48168  A1FTF7K2ZH21PB  [0, 0]      5.0    1.0 2014-01-11   \n",
       "48169   AUX6CQ7FOTSHV  [0, 0]      5.0    1.0 2014-02-15   \n",
       "48170  A2WB4OWBUH2VQX  [1, 1]      2.0    0.0 2013-01-28   \n",
       "48171  A16RCCC0YK7M7L  [0, 0]      3.0    0.0 2012-10-11   \n",
       "\n",
       "                                                    text  \n",
       "0      good quality, entry-level headphones. i purcha...  \n",
       "1      be careful! previously used and sold as new. p...  \n",
       "2      great speakers at a reasonable price. i never ...  \n",
       "3      never again. i have never had a bad purchase f...  \n",
       "4      poor, incompetent support & does not work with...  \n",
       "...                                                  ...  \n",
       "48167  this bulb will not last long at all. stopped w...  \n",
       "48168  perefct for my needs. they work as expected. t...  \n",
       "48169  worked as intended. the first unit had some co...  \n",
       "48170  i've tried several cases and this one is not g...  \n",
       "48171  didn't hold up. i bought this adapter almost e...  \n",
       "\n",
       "[48172 rows x 6 columns]"
      ]
     },
     "execution_count": 10,
     "metadata": {},
     "output_type": "execute_result"
    }
   ],
   "source": [
    "df['text'] = df['summary'] + \". \" + df['reviewText']\n",
    "df = df.drop(columns=['reviewText','summary'], axis='columns')\n",
    "df"
   ]
  },
  {
   "cell_type": "markdown",
   "id": "02e58cfa",
   "metadata": {},
   "source": [
    "Handling duplicates"
   ]
  },
  {
   "cell_type": "code",
   "execution_count": 11,
   "id": "d930bd35",
   "metadata": {},
   "outputs": [],
   "source": [
    "df.drop_duplicates(subset=['text'], inplace=True)\n",
    "df.reset_index(drop=True, inplace=True)"
   ]
  },
  {
   "cell_type": "markdown",
   "id": "654eee0b",
   "metadata": {},
   "source": [
    "Add reviewer frequency"
   ]
  },
  {
   "cell_type": "code",
   "execution_count": 12,
   "id": "a007e946",
   "metadata": {},
   "outputs": [
    {
     "data": {
      "text/html": [
       "<div>\n",
       "<style scoped>\n",
       "    .dataframe tbody tr th:only-of-type {\n",
       "        vertical-align: middle;\n",
       "    }\n",
       "\n",
       "    .dataframe tbody tr th {\n",
       "        vertical-align: top;\n",
       "    }\n",
       "\n",
       "    .dataframe thead th {\n",
       "        text-align: right;\n",
       "    }\n",
       "</style>\n",
       "<table border=\"1\" class=\"dataframe\">\n",
       "  <thead>\n",
       "    <tr style=\"text-align: right;\">\n",
       "      <th></th>\n",
       "      <th>reviewerID</th>\n",
       "      <th>helpful</th>\n",
       "      <th>overall</th>\n",
       "      <th>class</th>\n",
       "      <th>reviewTime</th>\n",
       "      <th>text</th>\n",
       "      <th>reviewFreq</th>\n",
       "    </tr>\n",
       "  </thead>\n",
       "  <tbody>\n",
       "    <tr>\n",
       "      <th>0</th>\n",
       "      <td>A20QWZMNCFYCON</td>\n",
       "      <td>[2, 2]</td>\n",
       "      <td>4.0</td>\n",
       "      <td>1.0</td>\n",
       "      <td>2011-02-27</td>\n",
       "      <td>good quality, entry-level headphones. i purcha...</td>\n",
       "      <td>1</td>\n",
       "    </tr>\n",
       "    <tr>\n",
       "      <th>1</th>\n",
       "      <td>AOBKR23R5VC0A</td>\n",
       "      <td>[4, 4]</td>\n",
       "      <td>3.0</td>\n",
       "      <td>0.0</td>\n",
       "      <td>2011-10-20</td>\n",
       "      <td>be careful! previously used and sold as new. p...</td>\n",
       "      <td>1</td>\n",
       "    </tr>\n",
       "    <tr>\n",
       "      <th>2</th>\n",
       "      <td>A9TG1D8V9FUBE</td>\n",
       "      <td>[0, 0]</td>\n",
       "      <td>5.0</td>\n",
       "      <td>1.0</td>\n",
       "      <td>2014-04-21</td>\n",
       "      <td>great speakers at a reasonable price. i never ...</td>\n",
       "      <td>1</td>\n",
       "    </tr>\n",
       "    <tr>\n",
       "      <th>3</th>\n",
       "      <td>A2HMQAWU66BQN</td>\n",
       "      <td>[0, 2]</td>\n",
       "      <td>1.0</td>\n",
       "      <td>0.0</td>\n",
       "      <td>2012-05-18</td>\n",
       "      <td>never again. i have never had a bad purchase f...</td>\n",
       "      <td>1</td>\n",
       "    </tr>\n",
       "    <tr>\n",
       "      <th>4</th>\n",
       "      <td>A2Q4W76MM2HKMT</td>\n",
       "      <td>[5, 9]</td>\n",
       "      <td>1.0</td>\n",
       "      <td>0.0</td>\n",
       "      <td>2014-03-06</td>\n",
       "      <td>poor, incompetent support &amp; does not work with...</td>\n",
       "      <td>1</td>\n",
       "    </tr>\n",
       "    <tr>\n",
       "      <th>...</th>\n",
       "      <td>...</td>\n",
       "      <td>...</td>\n",
       "      <td>...</td>\n",
       "      <td>...</td>\n",
       "      <td>...</td>\n",
       "      <td>...</td>\n",
       "      <td>...</td>\n",
       "    </tr>\n",
       "    <tr>\n",
       "      <th>48159</th>\n",
       "      <td>A2Y6UWH2GPW8CZ</td>\n",
       "      <td>[0, 0]</td>\n",
       "      <td>1.0</td>\n",
       "      <td>0.0</td>\n",
       "      <td>2014-01-14</td>\n",
       "      <td>this bulb will not last long at all. stopped w...</td>\n",
       "      <td>1</td>\n",
       "    </tr>\n",
       "    <tr>\n",
       "      <th>48160</th>\n",
       "      <td>A1FTF7K2ZH21PB</td>\n",
       "      <td>[0, 0]</td>\n",
       "      <td>5.0</td>\n",
       "      <td>1.0</td>\n",
       "      <td>2014-01-11</td>\n",
       "      <td>perefct for my needs. they work as expected. t...</td>\n",
       "      <td>2</td>\n",
       "    </tr>\n",
       "    <tr>\n",
       "      <th>48161</th>\n",
       "      <td>AUX6CQ7FOTSHV</td>\n",
       "      <td>[0, 0]</td>\n",
       "      <td>5.0</td>\n",
       "      <td>1.0</td>\n",
       "      <td>2014-02-15</td>\n",
       "      <td>worked as intended. the first unit had some co...</td>\n",
       "      <td>1</td>\n",
       "    </tr>\n",
       "    <tr>\n",
       "      <th>48162</th>\n",
       "      <td>A2WB4OWBUH2VQX</td>\n",
       "      <td>[1, 1]</td>\n",
       "      <td>2.0</td>\n",
       "      <td>0.0</td>\n",
       "      <td>2013-01-28</td>\n",
       "      <td>i've tried several cases and this one is not g...</td>\n",
       "      <td>2</td>\n",
       "    </tr>\n",
       "    <tr>\n",
       "      <th>48163</th>\n",
       "      <td>A16RCCC0YK7M7L</td>\n",
       "      <td>[0, 0]</td>\n",
       "      <td>3.0</td>\n",
       "      <td>0.0</td>\n",
       "      <td>2012-10-11</td>\n",
       "      <td>didn't hold up. i bought this adapter almost e...</td>\n",
       "      <td>1</td>\n",
       "    </tr>\n",
       "  </tbody>\n",
       "</table>\n",
       "<p>48164 rows × 7 columns</p>\n",
       "</div>"
      ],
      "text/plain": [
       "           reviewerID helpful  overall  class reviewTime  \\\n",
       "0      A20QWZMNCFYCON  [2, 2]      4.0    1.0 2011-02-27   \n",
       "1       AOBKR23R5VC0A  [4, 4]      3.0    0.0 2011-10-20   \n",
       "2       A9TG1D8V9FUBE  [0, 0]      5.0    1.0 2014-04-21   \n",
       "3       A2HMQAWU66BQN  [0, 2]      1.0    0.0 2012-05-18   \n",
       "4      A2Q4W76MM2HKMT  [5, 9]      1.0    0.0 2014-03-06   \n",
       "...               ...     ...      ...    ...        ...   \n",
       "48159  A2Y6UWH2GPW8CZ  [0, 0]      1.0    0.0 2014-01-14   \n",
       "48160  A1FTF7K2ZH21PB  [0, 0]      5.0    1.0 2014-01-11   \n",
       "48161   AUX6CQ7FOTSHV  [0, 0]      5.0    1.0 2014-02-15   \n",
       "48162  A2WB4OWBUH2VQX  [1, 1]      2.0    0.0 2013-01-28   \n",
       "48163  A16RCCC0YK7M7L  [0, 0]      3.0    0.0 2012-10-11   \n",
       "\n",
       "                                                    text  reviewFreq  \n",
       "0      good quality, entry-level headphones. i purcha...           1  \n",
       "1      be careful! previously used and sold as new. p...           1  \n",
       "2      great speakers at a reasonable price. i never ...           1  \n",
       "3      never again. i have never had a bad purchase f...           1  \n",
       "4      poor, incompetent support & does not work with...           1  \n",
       "...                                                  ...         ...  \n",
       "48159  this bulb will not last long at all. stopped w...           1  \n",
       "48160  perefct for my needs. they work as expected. t...           2  \n",
       "48161  worked as intended. the first unit had some co...           1  \n",
       "48162  i've tried several cases and this one is not g...           2  \n",
       "48163  didn't hold up. i bought this adapter almost e...           1  \n",
       "\n",
       "[48164 rows x 7 columns]"
      ]
     },
     "execution_count": 12,
     "metadata": {},
     "output_type": "execute_result"
    }
   ],
   "source": [
    "review_count = df['reviewerID'].value_counts()\n",
    "df['reviewFreq'] = df['reviewerID'].map(review_count)\n",
    "df"
   ]
  },
  {
   "cell_type": "code",
   "execution_count": 13,
   "id": "ee2527c3",
   "metadata": {},
   "outputs": [],
   "source": [
    "def review_freq_binning(freq):\n",
    "    if freq == 1:\n",
    "        return \"One time\"\n",
    "    elif freq <= 3:\n",
    "        return \"Low\"\n",
    "    elif freq <= 10:\n",
    "        return \"Medium\"\n",
    "    else:\n",
    "        return \"High\""
   ]
  },
  {
   "cell_type": "code",
   "execution_count": 14,
   "id": "942bb80e",
   "metadata": {},
   "outputs": [],
   "source": [
    "df['reviewerType'] = df['reviewFreq'].apply(review_freq_binning)"
   ]
  },
  {
   "cell_type": "code",
   "execution_count": 15,
   "id": "7ff375db",
   "metadata": {},
   "outputs": [
    {
     "data": {
      "text/html": [
       "<div>\n",
       "<style scoped>\n",
       "    .dataframe tbody tr th:only-of-type {\n",
       "        vertical-align: middle;\n",
       "    }\n",
       "\n",
       "    .dataframe tbody tr th {\n",
       "        vertical-align: top;\n",
       "    }\n",
       "\n",
       "    .dataframe thead th {\n",
       "        text-align: right;\n",
       "    }\n",
       "</style>\n",
       "<table border=\"1\" class=\"dataframe\">\n",
       "  <thead>\n",
       "    <tr style=\"text-align: right;\">\n",
       "      <th>class</th>\n",
       "      <th>0.0</th>\n",
       "      <th>1.0</th>\n",
       "    </tr>\n",
       "    <tr>\n",
       "      <th>reviewerType</th>\n",
       "      <th></th>\n",
       "      <th></th>\n",
       "    </tr>\n",
       "  </thead>\n",
       "  <tbody>\n",
       "    <tr>\n",
       "      <th>Low</th>\n",
       "      <td>0.456277</td>\n",
       "      <td>0.543723</td>\n",
       "    </tr>\n",
       "    <tr>\n",
       "      <th>Medium</th>\n",
       "      <td>0.388889</td>\n",
       "      <td>0.611111</td>\n",
       "    </tr>\n",
       "    <tr>\n",
       "      <th>One time</th>\n",
       "      <td>0.501181</td>\n",
       "      <td>0.498819</td>\n",
       "    </tr>\n",
       "  </tbody>\n",
       "</table>\n",
       "</div>"
      ],
      "text/plain": [
       "class              0.0       1.0\n",
       "reviewerType                    \n",
       "Low           0.456277  0.543723\n",
       "Medium        0.388889  0.611111\n",
       "One time      0.501181  0.498819"
      ]
     },
     "execution_count": 15,
     "metadata": {},
     "output_type": "execute_result"
    }
   ],
   "source": [
    "crosstab = pd.crosstab(df['reviewerType'], df['class'], normalize='index')\n",
    "crosstab\n"
   ]
  },
  {
   "cell_type": "code",
   "execution_count": 16,
   "id": "3cc36905",
   "metadata": {},
   "outputs": [],
   "source": [
    "df['isFreqReviewer'] = df['reviewFreq'].apply(lambda x: 1 if x > 1 else 0).astype('int')"
   ]
  },
  {
   "cell_type": "markdown",
   "id": "70d37244",
   "metadata": {},
   "source": [
    "Add Review Length"
   ]
  },
  {
   "cell_type": "code",
   "execution_count": 17,
   "id": "f48b2fcc",
   "metadata": {},
   "outputs": [],
   "source": [
    "df['reviewWordCount'] = df['text'].apply(lambda x: len(x.split()))\n",
    "df['reviewCharCount'] = df['text'].apply(len)"
   ]
  },
  {
   "cell_type": "code",
   "execution_count": 18,
   "id": "f2396f9b",
   "metadata": {},
   "outputs": [
    {
     "data": {
      "text/html": [
       "<div>\n",
       "<style scoped>\n",
       "    .dataframe tbody tr th:only-of-type {\n",
       "        vertical-align: middle;\n",
       "    }\n",
       "\n",
       "    .dataframe tbody tr th {\n",
       "        vertical-align: top;\n",
       "    }\n",
       "\n",
       "    .dataframe thead th {\n",
       "        text-align: right;\n",
       "    }\n",
       "</style>\n",
       "<table border=\"1\" class=\"dataframe\">\n",
       "  <thead>\n",
       "    <tr style=\"text-align: right;\">\n",
       "      <th></th>\n",
       "      <th>count</th>\n",
       "      <th>mean</th>\n",
       "      <th>std</th>\n",
       "      <th>min</th>\n",
       "      <th>25%</th>\n",
       "      <th>50%</th>\n",
       "      <th>75%</th>\n",
       "      <th>max</th>\n",
       "    </tr>\n",
       "    <tr>\n",
       "      <th>class</th>\n",
       "      <th></th>\n",
       "      <th></th>\n",
       "      <th></th>\n",
       "      <th></th>\n",
       "      <th></th>\n",
       "      <th></th>\n",
       "      <th></th>\n",
       "      <th></th>\n",
       "    </tr>\n",
       "  </thead>\n",
       "  <tbody>\n",
       "    <tr>\n",
       "      <th>0.0</th>\n",
       "      <td>24085.0</td>\n",
       "      <td>99.967449</td>\n",
       "      <td>115.135808</td>\n",
       "      <td>2.0</td>\n",
       "      <td>37.0</td>\n",
       "      <td>65.0</td>\n",
       "      <td>120.0</td>\n",
       "      <td>4101.0</td>\n",
       "    </tr>\n",
       "    <tr>\n",
       "      <th>1.0</th>\n",
       "      <td>24079.0</td>\n",
       "      <td>86.027410</td>\n",
       "      <td>111.770383</td>\n",
       "      <td>2.0</td>\n",
       "      <td>30.0</td>\n",
       "      <td>48.0</td>\n",
       "      <td>96.0</td>\n",
       "      <td>2338.0</td>\n",
       "    </tr>\n",
       "  </tbody>\n",
       "</table>\n",
       "</div>"
      ],
      "text/plain": [
       "         count       mean         std  min   25%   50%    75%     max\n",
       "class                                                                \n",
       "0.0    24085.0  99.967449  115.135808  2.0  37.0  65.0  120.0  4101.0\n",
       "1.0    24079.0  86.027410  111.770383  2.0  30.0  48.0   96.0  2338.0"
      ]
     },
     "execution_count": 18,
     "metadata": {},
     "output_type": "execute_result"
    }
   ],
   "source": [
    "df.groupby('class')['reviewWordCount'].describe()"
   ]
  },
  {
   "cell_type": "code",
   "execution_count": 19,
   "id": "419a42dd",
   "metadata": {},
   "outputs": [
    {
     "data": {
      "text/html": [
       "<div>\n",
       "<style scoped>\n",
       "    .dataframe tbody tr th:only-of-type {\n",
       "        vertical-align: middle;\n",
       "    }\n",
       "\n",
       "    .dataframe tbody tr th {\n",
       "        vertical-align: top;\n",
       "    }\n",
       "\n",
       "    .dataframe thead th {\n",
       "        text-align: right;\n",
       "    }\n",
       "</style>\n",
       "<table border=\"1\" class=\"dataframe\">\n",
       "  <thead>\n",
       "    <tr style=\"text-align: right;\">\n",
       "      <th></th>\n",
       "      <th>count</th>\n",
       "      <th>mean</th>\n",
       "      <th>std</th>\n",
       "      <th>min</th>\n",
       "      <th>25%</th>\n",
       "      <th>50%</th>\n",
       "      <th>75%</th>\n",
       "      <th>max</th>\n",
       "    </tr>\n",
       "    <tr>\n",
       "      <th>class</th>\n",
       "      <th></th>\n",
       "      <th></th>\n",
       "      <th></th>\n",
       "      <th></th>\n",
       "      <th></th>\n",
       "      <th></th>\n",
       "      <th></th>\n",
       "      <th></th>\n",
       "    </tr>\n",
       "  </thead>\n",
       "  <tbody>\n",
       "    <tr>\n",
       "      <th>0.0</th>\n",
       "      <td>24085.0</td>\n",
       "      <td>544.396222</td>\n",
       "      <td>645.415079</td>\n",
       "      <td>14.0</td>\n",
       "      <td>198.0</td>\n",
       "      <td>349.0</td>\n",
       "      <td>646.0</td>\n",
       "      <td>24210.0</td>\n",
       "    </tr>\n",
       "    <tr>\n",
       "      <th>1.0</th>\n",
       "      <td>24079.0</td>\n",
       "      <td>468.984592</td>\n",
       "      <td>621.822910</td>\n",
       "      <td>14.0</td>\n",
       "      <td>163.0</td>\n",
       "      <td>261.0</td>\n",
       "      <td>516.0</td>\n",
       "      <td>13896.0</td>\n",
       "    </tr>\n",
       "  </tbody>\n",
       "</table>\n",
       "</div>"
      ],
      "text/plain": [
       "         count        mean         std   min    25%    50%    75%      max\n",
       "class                                                                     \n",
       "0.0    24085.0  544.396222  645.415079  14.0  198.0  349.0  646.0  24210.0\n",
       "1.0    24079.0  468.984592  621.822910  14.0  163.0  261.0  516.0  13896.0"
      ]
     },
     "execution_count": 19,
     "metadata": {},
     "output_type": "execute_result"
    }
   ],
   "source": [
    "df.groupby('class')['reviewCharCount'].describe()"
   ]
  },
  {
   "cell_type": "markdown",
   "id": "5a662f93",
   "metadata": {},
   "source": [
    "**TEXT CLEANING**"
   ]
  },
  {
   "cell_type": "code",
   "execution_count": 20,
   "id": "9e01ecab",
   "metadata": {},
   "outputs": [],
   "source": [
    "import spacy\n",
    "import re\n",
    "from tqdm import tqdm"
   ]
  },
  {
   "cell_type": "markdown",
   "id": "dfb46c72",
   "metadata": {},
   "source": [
    "Load english tokenizer"
   ]
  },
  {
   "cell_type": "code",
   "execution_count": 21,
   "id": "d5043426",
   "metadata": {},
   "outputs": [],
   "source": [
    "nlp = spacy.load(\"en_core_web_sm\", disable=[\"ner\", \"parser\", \"tagger\"])"
   ]
  },
  {
   "cell_type": "code",
   "execution_count": 22,
   "id": "51bcc263",
   "metadata": {},
   "outputs": [],
   "source": [
    "def clean_texts(text_list):\n",
    "    cleaned_reviews = []\n",
    "\n",
    "    # Pre-clean the text (lowercase, remove HTML, URLs, extra spaces)\n",
    "    preprocessed = []\n",
    "    for text in text_list:\n",
    "        text = text.lower()\n",
    "        text = re.sub(r'<.*?>', '', text)\n",
    "        text = re.sub(r'http\\S+|www.\\S+|https\\S+', '', text)\n",
    "        text = re.sub(r'\\s+', ' ', text)\n",
    "        preprocessed.append(text)\n",
    "\n",
    "    # Use spaCy's nlp.pipe for fast tokenization & lemmatization\n",
    "    for doc in tqdm(nlp.pipe(preprocessed, batch_size=100), total=len(preprocessed), desc=\"Cleaning Reviews\"):\n",
    "        tokens = [token.lemma_ for token in doc if token.is_alpha and not token.is_stop]\n",
    "        cleaned_reviews.append(\" \".join(tokens))\n",
    "\n",
    "    return cleaned_reviews\n"
   ]
  },
  {
   "cell_type": "code",
   "execution_count": 23,
   "id": "da56f139",
   "metadata": {},
   "outputs": [
    {
     "name": "stderr",
     "output_type": "stream",
     "text": [
      "Cleaning Reviews:   0%|          | 0/48164 [00:00<?, ?it/s]c:\\Users\\Divyanshu Gaur\\AppData\\Local\\Programs\\Python\\Python313\\Lib\\site-packages\\spacy\\pipeline\\lemmatizer.py:188: UserWarning: [W108] The rule-based lemmatizer did not find POS annotation for one or more tokens. Check that your pipeline includes components that assign token.pos, typically 'tagger'+'attribute_ruler' or 'morphologizer'.\n",
      "  warnings.warn(Warnings.W108)\n",
      "Cleaning Reviews: 100%|██████████| 48164/48164 [06:29<00:00, 123.61it/s]\n"
     ]
    }
   ],
   "source": [
    "df['text'] = clean_texts(df['text'].tolist())"
   ]
  },
  {
   "cell_type": "code",
   "execution_count": 24,
   "id": "adb45910",
   "metadata": {},
   "outputs": [
    {
     "data": {
      "text/html": [
       "<div>\n",
       "<style scoped>\n",
       "    .dataframe tbody tr th:only-of-type {\n",
       "        vertical-align: middle;\n",
       "    }\n",
       "\n",
       "    .dataframe tbody tr th {\n",
       "        vertical-align: top;\n",
       "    }\n",
       "\n",
       "    .dataframe thead th {\n",
       "        text-align: right;\n",
       "    }\n",
       "</style>\n",
       "<table border=\"1\" class=\"dataframe\">\n",
       "  <thead>\n",
       "    <tr style=\"text-align: right;\">\n",
       "      <th></th>\n",
       "      <th>reviewerID</th>\n",
       "      <th>helpful</th>\n",
       "      <th>overall</th>\n",
       "      <th>class</th>\n",
       "      <th>reviewTime</th>\n",
       "      <th>text</th>\n",
       "      <th>reviewFreq</th>\n",
       "      <th>reviewerType</th>\n",
       "      <th>isFreqReviewer</th>\n",
       "      <th>reviewWordCount</th>\n",
       "      <th>reviewCharCount</th>\n",
       "    </tr>\n",
       "  </thead>\n",
       "  <tbody>\n",
       "    <tr>\n",
       "      <th>0</th>\n",
       "      <td>A20QWZMNCFYCON</td>\n",
       "      <td>[2, 2]</td>\n",
       "      <td>4.0</td>\n",
       "      <td>1.0</td>\n",
       "      <td>2011-02-27</td>\n",
       "      <td>good quality entry level headphones purchased ...</td>\n",
       "      <td>1</td>\n",
       "      <td>One time</td>\n",
       "      <td>0</td>\n",
       "      <td>164</td>\n",
       "      <td>986</td>\n",
       "    </tr>\n",
       "    <tr>\n",
       "      <th>1</th>\n",
       "      <td>AOBKR23R5VC0A</td>\n",
       "      <td>[4, 4]</td>\n",
       "      <td>3.0</td>\n",
       "      <td>0.0</td>\n",
       "      <td>2011-10-20</td>\n",
       "      <td>careful previously sold new purchased amazon s...</td>\n",
       "      <td>1</td>\n",
       "      <td>One time</td>\n",
       "      <td>0</td>\n",
       "      <td>203</td>\n",
       "      <td>1158</td>\n",
       "    </tr>\n",
       "    <tr>\n",
       "      <th>2</th>\n",
       "      <td>A9TG1D8V9FUBE</td>\n",
       "      <td>[0, 0]</td>\n",
       "      <td>5.0</td>\n",
       "      <td>1.0</td>\n",
       "      <td>2014-04-21</td>\n",
       "      <td>great speakers reasonable price speakers lapto...</td>\n",
       "      <td>1</td>\n",
       "      <td>One time</td>\n",
       "      <td>0</td>\n",
       "      <td>55</td>\n",
       "      <td>289</td>\n",
       "    </tr>\n",
       "    <tr>\n",
       "      <th>3</th>\n",
       "      <td>A2HMQAWU66BQN</td>\n",
       "      <td>[0, 2]</td>\n",
       "      <td>1.0</td>\n",
       "      <td>0.0</td>\n",
       "      <td>2012-05-18</td>\n",
       "      <td>bad purchase amazon sellers ordered product on...</td>\n",
       "      <td>1</td>\n",
       "      <td>One time</td>\n",
       "      <td>0</td>\n",
       "      <td>181</td>\n",
       "      <td>980</td>\n",
       "    </tr>\n",
       "    <tr>\n",
       "      <th>4</th>\n",
       "      <td>A2Q4W76MM2HKMT</td>\n",
       "      <td>[5, 9]</td>\n",
       "      <td>1.0</td>\n",
       "      <td>0.0</td>\n",
       "      <td>2014-03-06</td>\n",
       "      <td>poor incompetent support work beam g air card ...</td>\n",
       "      <td>1</td>\n",
       "      <td>One time</td>\n",
       "      <td>0</td>\n",
       "      <td>188</td>\n",
       "      <td>1176</td>\n",
       "    </tr>\n",
       "  </tbody>\n",
       "</table>\n",
       "</div>"
      ],
      "text/plain": [
       "       reviewerID helpful  overall  class reviewTime  \\\n",
       "0  A20QWZMNCFYCON  [2, 2]      4.0    1.0 2011-02-27   \n",
       "1   AOBKR23R5VC0A  [4, 4]      3.0    0.0 2011-10-20   \n",
       "2   A9TG1D8V9FUBE  [0, 0]      5.0    1.0 2014-04-21   \n",
       "3   A2HMQAWU66BQN  [0, 2]      1.0    0.0 2012-05-18   \n",
       "4  A2Q4W76MM2HKMT  [5, 9]      1.0    0.0 2014-03-06   \n",
       "\n",
       "                                                text  reviewFreq reviewerType  \\\n",
       "0  good quality entry level headphones purchased ...           1     One time   \n",
       "1  careful previously sold new purchased amazon s...           1     One time   \n",
       "2  great speakers reasonable price speakers lapto...           1     One time   \n",
       "3  bad purchase amazon sellers ordered product on...           1     One time   \n",
       "4  poor incompetent support work beam g air card ...           1     One time   \n",
       "\n",
       "   isFreqReviewer  reviewWordCount  reviewCharCount  \n",
       "0               0              164              986  \n",
       "1               0              203             1158  \n",
       "2               0               55              289  \n",
       "3               0              181              980  \n",
       "4               0              188             1176  "
      ]
     },
     "execution_count": 24,
     "metadata": {},
     "output_type": "execute_result"
    }
   ],
   "source": [
    "df.head()"
   ]
  },
  {
   "cell_type": "markdown",
   "id": "5598a1fc",
   "metadata": {},
   "source": [
    "**TRAIN TEST SPLIT**"
   ]
  },
  {
   "cell_type": "code",
   "execution_count": 25,
   "id": "6ba0a6a1",
   "metadata": {},
   "outputs": [],
   "source": [
    "X = df[['text', 'isFreqReviewer', 'reviewWordCount', 'reviewCharCount']]\n",
    "y = df['class']"
   ]
  },
  {
   "cell_type": "code",
   "execution_count": 26,
   "id": "8b4f3d91",
   "metadata": {},
   "outputs": [],
   "source": [
    "from sklearn.model_selection import train_test_split\n",
    "X_train, X_test, y_train, y_test = train_test_split(X, y, test_size=0.2, random_state=42)"
   ]
  },
  {
   "cell_type": "markdown",
   "id": "8123b48d",
   "metadata": {},
   "source": [
    "**TEXT VECTORIZATION**"
   ]
  },
  {
   "cell_type": "code",
   "execution_count": 27,
   "id": "204dd2e2",
   "metadata": {},
   "outputs": [],
   "source": [
    "from sklearn.feature_extraction.text import TfidfVectorizer\n",
    "vectorizer = TfidfVectorizer(max_features=10000, ngram_range=(1, 2), stop_words='english')"
   ]
  },
  {
   "cell_type": "code",
   "execution_count": 28,
   "id": "d110249f",
   "metadata": {},
   "outputs": [],
   "source": [
    "X_train_text = vectorizer.fit_transform(X_train['text'])\n",
    "X_test_text = vectorizer.transform(X_test['text'])"
   ]
  },
  {
   "cell_type": "markdown",
   "id": "70c373fb",
   "metadata": {},
   "source": [
    "**SCALING FEATURES**"
   ]
  },
  {
   "cell_type": "code",
   "execution_count": 29,
   "id": "6b1fa8f1",
   "metadata": {},
   "outputs": [],
   "source": [
    "from sklearn.preprocessing import MinMaxScaler\n",
    "scaler = MinMaxScaler()"
   ]
  },
  {
   "cell_type": "code",
   "execution_count": 30,
   "id": "671e4776",
   "metadata": {},
   "outputs": [],
   "source": [
    "length_features_train = scaler.fit_transform(X_train[['reviewWordCount', 'reviewCharCount']])\n",
    "length_features_test = scaler.transform(X_test[['reviewWordCount', 'reviewCharCount']])"
   ]
  },
  {
   "cell_type": "markdown",
   "id": "1ec54671",
   "metadata": {},
   "source": [
    "**COMBINE TEXT & NUMERIC**"
   ]
  },
  {
   "cell_type": "code",
   "execution_count": 31,
   "id": "6f419e38",
   "metadata": {},
   "outputs": [],
   "source": [
    "from scipy.sparse import hstack"
   ]
  },
  {
   "cell_type": "code",
   "execution_count": 32,
   "id": "abf6a0cc",
   "metadata": {},
   "outputs": [],
   "source": [
    "X_train_final = hstack([X_train_text, X_train[['isFreqReviewer']], length_features_train])\n",
    "X_test_final = hstack([X_test_text, X_test[['isFreqReviewer']], length_features_test])"
   ]
  },
  {
   "cell_type": "markdown",
   "id": "2852c68c",
   "metadata": {},
   "source": [
    "**MODEL TRAINING**"
   ]
  },
  {
   "cell_type": "code",
   "execution_count": 33,
   "id": "7f4aff09",
   "metadata": {},
   "outputs": [],
   "source": [
    "from sklearn.linear_model import LogisticRegression\n",
    "from sklearn.naive_bayes import MultinomialNB\n",
    "from sklearn.ensemble import RandomForestClassifier\n",
    "from sklearn.svm import LinearSVC\n",
    "from sklearn.metrics import accuracy_score, precision_score, recall_score, f1_score\n",
    "import time"
   ]
  },
  {
   "cell_type": "code",
   "execution_count": 34,
   "id": "4321bae0",
   "metadata": {},
   "outputs": [],
   "source": [
    "models = [LogisticRegression(), MultinomialNB(), RandomForestClassifier(n_estimators=100, random_state=42), LinearSVC()]\n",
    "model_names = ['Logistic Regression', 'Multinomial Naive Bayes', 'Random Forest', 'Linear SVC']"
   ]
  },
  {
   "cell_type": "markdown",
   "id": "2c2d535b",
   "metadata": {},
   "source": [
    "Training and comparing different models"
   ]
  },
  {
   "cell_type": "code",
   "execution_count": 35,
   "id": "3924e128",
   "metadata": {},
   "outputs": [
    {
     "name": "stdout",
     "output_type": "stream",
     "text": [
      "----- Logistic Regression -----\n",
      "Accuracy: 0.8667\n",
      "Precision: 0.8738\n",
      "Recall: 0.8601\n",
      "F1 Score: 0.8669\n",
      "Time taken: 0.55 seconds\n",
      "\n",
      "----- Multinomial Naive Bayes -----\n",
      "Accuracy: 0.8487\n",
      "Precision: 0.8464\n",
      "Recall: 0.8556\n",
      "F1 Score: 0.8510\n",
      "Time taken: 0.10 seconds\n",
      "\n",
      "----- Random Forest -----\n",
      "Accuracy: 0.8440\n",
      "Precision: 0.8561\n",
      "Recall: 0.8305\n",
      "F1 Score: 0.8431\n",
      "Time taken: 117.16 seconds\n",
      "\n",
      "----- Linear SVC -----\n",
      "Accuracy: 0.8587\n",
      "Precision: 0.8643\n",
      "Recall: 0.8542\n",
      "F1 Score: 0.8592\n",
      "Time taken: 0.89 seconds\n",
      "\n"
     ]
    }
   ],
   "source": [
    "for model, name in zip(models, model_names):\n",
    "    start_time = time.time()\n",
    "    model.fit(X_train_final, y_train)\n",
    "    y_pred = model.predict(X_test_final)\n",
    "\n",
    "    print(f\"----- {name} -----\")\n",
    "    print(f\"Accuracy: {accuracy_score(y_test, y_pred):.4f}\")\n",
    "    print(f\"Precision: {precision_score(y_test, y_pred):.4f}\")\n",
    "    print(f\"Recall: {recall_score(y_test, y_pred):.4f}\")\n",
    "    print(f\"F1 Score: {f1_score(y_test, y_pred):.4f}\")\n",
    "    print(f\"Time taken: {time.time() - start_time:.2f} seconds\\n\")"
   ]
  },
  {
   "cell_type": "markdown",
   "id": "15d074b9",
   "metadata": {},
   "source": [
    "Training a voting classifier"
   ]
  },
  {
   "cell_type": "code",
   "execution_count": 36,
   "id": "b2930186",
   "metadata": {},
   "outputs": [],
   "source": [
    "from sklearn.ensemble import VotingClassifier"
   ]
  },
  {
   "cell_type": "code",
   "execution_count": 37,
   "id": "6be3e348",
   "metadata": {},
   "outputs": [],
   "source": [
    "log_clf = LogisticRegression(max_iter=1000)\n",
    "nb_clf = MultinomialNB()\n",
    "rf_clf = RandomForestClassifier(n_estimators=100, random_state=42)"
   ]
  },
  {
   "cell_type": "code",
   "execution_count": 43,
   "id": "8b0351fb",
   "metadata": {},
   "outputs": [],
   "source": [
    "voting_clf = VotingClassifier(\n",
    "    estimators=[\n",
    "        ('lr', log_clf),\n",
    "        ('nb', nb_clf),\n",
    "        ('rf', rf_clf)\n",
    "    ],\n",
    "    voting='soft'\n",
    ")"
   ]
  },
  {
   "cell_type": "code",
   "execution_count": 44,
   "id": "fd5ffa3e",
   "metadata": {},
   "outputs": [],
   "source": [
    "voting_clf.fit(X_train_final, y_train)\n",
    "y_pred = voting_clf.predict(X_test_final)"
   ]
  },
  {
   "cell_type": "code",
   "execution_count": 45,
   "id": "2ab8c881",
   "metadata": {},
   "outputs": [
    {
     "name": "stdout",
     "output_type": "stream",
     "text": [
      "Voting Classifier Metrics:\n",
      "Accuracy : 0.8678500986193294\n",
      "Precision: 0.8733097566049511\n",
      "Recall   : 0.8634306869600987\n",
      "F1 Score : 0.8683421243148206\n"
     ]
    }
   ],
   "source": [
    "print(\"Voting Classifier Metrics:\")\n",
    "print(\"Accuracy :\", accuracy_score(y_test, y_pred))\n",
    "print(\"Precision:\", precision_score(y_test, y_pred))\n",
    "print(\"Recall   :\", recall_score(y_test, y_pred))\n",
    "print(\"F1 Score :\", f1_score(y_test, y_pred))"
   ]
  },
  {
   "cell_type": "markdown",
   "id": "6741bc77",
   "metadata": {},
   "source": [
    "**SAVING THE MODEL**"
   ]
  },
  {
   "cell_type": "code",
   "execution_count": 46,
   "id": "60368235",
   "metadata": {},
   "outputs": [],
   "source": [
    "import joblib"
   ]
  },
  {
   "cell_type": "code",
   "execution_count": 47,
   "id": "6e51b4c1",
   "metadata": {},
   "outputs": [
    {
     "data": {
      "text/plain": [
       "['scaler.pkl']"
      ]
     },
     "execution_count": 47,
     "metadata": {},
     "output_type": "execute_result"
    }
   ],
   "source": [
    "joblib.dump(vectorizer, 'vectorizer.pkl')\n",
    "joblib.dump(voting_clf, 'model.pkl')\n",
    "joblib.dump(scaler, 'scaler.pkl')"
   ]
  }
 ],
 "metadata": {
  "kernelspec": {
   "display_name": "Python 3",
   "language": "python",
   "name": "python3"
  },
  "language_info": {
   "codemirror_mode": {
    "name": "ipython",
    "version": 3
   },
   "file_extension": ".py",
   "mimetype": "text/x-python",
   "name": "python",
   "nbconvert_exporter": "python",
   "pygments_lexer": "ipython3",
   "version": "3.13.0"
  }
 },
 "nbformat": 4,
 "nbformat_minor": 5
}
