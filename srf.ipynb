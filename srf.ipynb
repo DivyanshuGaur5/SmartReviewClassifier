{
 "cells": [
  {
   "cell_type": "markdown",
   "id": "a6974519",
   "metadata": {},
   "source": [
    "**Import Basic Libraries**"
   ]
  },
  {
   "cell_type": "code",
   "execution_count": 4,
   "id": "436b1292",
   "metadata": {},
   "outputs": [],
   "source": [
    "import numpy as np\n",
    "import pandas as pd\n",
    "from matplotlib import pyplot as plt"
   ]
  },
  {
   "cell_type": "markdown",
   "id": "e0e28b77",
   "metadata": {},
   "source": [
    "**Load Dataset**"
   ]
  },
  {
   "cell_type": "code",
   "execution_count": 5,
   "id": "07268cc3",
   "metadata": {},
   "outputs": [],
   "source": [
    "df = pd.read_csv(r\"D:\\My Items\\Coding\\SmartReviewFilter\\data\\electronics.csv\")"
   ]
  },
  {
   "cell_type": "markdown",
   "id": "3b7d4ade",
   "metadata": {},
   "source": [
    "Shorten the dataset"
   ]
  },
  {
   "cell_type": "code",
   "execution_count": 6,
   "id": "3b8a496d",
   "metadata": {},
   "outputs": [
    {
     "data": {
      "text/html": [
       "<div>\n",
       "<style scoped>\n",
       "    .dataframe tbody tr th:only-of-type {\n",
       "        vertical-align: middle;\n",
       "    }\n",
       "\n",
       "    .dataframe tbody tr th {\n",
       "        vertical-align: top;\n",
       "    }\n",
       "\n",
       "    .dataframe thead th {\n",
       "        text-align: right;\n",
       "    }\n",
       "</style>\n",
       "<table border=\"1\" class=\"dataframe\">\n",
       "  <thead>\n",
       "    <tr style=\"text-align: right;\">\n",
       "      <th></th>\n",
       "      <th>_id</th>\n",
       "      <th>reviewerID</th>\n",
       "      <th>asin</th>\n",
       "      <th>reviewerName</th>\n",
       "      <th>helpful</th>\n",
       "      <th>reviewText</th>\n",
       "      <th>overall</th>\n",
       "      <th>summary</th>\n",
       "      <th>unixReviewTime</th>\n",
       "      <th>reviewTime</th>\n",
       "      <th>category</th>\n",
       "      <th>class</th>\n",
       "    </tr>\n",
       "  </thead>\n",
       "  <tbody>\n",
       "    <tr>\n",
       "      <th>0</th>\n",
       "      <td>{'$oid': '5a13246c741a2384e8a12ef0'}</td>\n",
       "      <td>AFR4XH8GTRPIM</td>\n",
       "      <td>B000MTXFXS</td>\n",
       "      <td>Karen M. Masset</td>\n",
       "      <td>[29, 29]</td>\n",
       "      <td>So let me tell you what this thing is/does. It...</td>\n",
       "      <td>4.0</td>\n",
       "      <td>Simple, just what is needed to find a satellit...</td>\n",
       "      <td>1331942400</td>\n",
       "      <td>03 17, 2012</td>\n",
       "      <td>Electronics</td>\n",
       "      <td>1.0</td>\n",
       "    </tr>\n",
       "    <tr>\n",
       "      <th>1</th>\n",
       "      <td>{'$oid': '5a1325ae741a2384e80119fc'}</td>\n",
       "      <td>A1FH6RHFF0NPI6</td>\n",
       "      <td>B00DTLVJB6</td>\n",
       "      <td>Nancy Lechner</td>\n",
       "      <td>[0, 0]</td>\n",
       "      <td>It was a gift for my son. He LOVES it! He said...</td>\n",
       "      <td>5.0</td>\n",
       "      <td>Love it!</td>\n",
       "      <td>1381190400</td>\n",
       "      <td>10 8, 2013</td>\n",
       "      <td>Electronics</td>\n",
       "      <td>1.0</td>\n",
       "    </tr>\n",
       "    <tr>\n",
       "      <th>2</th>\n",
       "      <td>{'$oid': '5a1325c3741a2384e8084f3e'}</td>\n",
       "      <td>A1HCYVW6U42SI7</td>\n",
       "      <td>B00ID2HGK4</td>\n",
       "      <td>Joshua D.</td>\n",
       "      <td>[3, 5]</td>\n",
       "      <td>This is what I was worried about.  I didn't re...</td>\n",
       "      <td>2.0</td>\n",
       "      <td>Buy for 3D content only</td>\n",
       "      <td>1398729600</td>\n",
       "      <td>04 29, 2014</td>\n",
       "      <td>Electronics</td>\n",
       "      <td>0.0</td>\n",
       "    </tr>\n",
       "    <tr>\n",
       "      <th>3</th>\n",
       "      <td>{'$oid': '5a1325bb741a2384e805135c'}</td>\n",
       "      <td>A1KJN3JIU3HJ1Z</td>\n",
       "      <td>B00G6IY5HY</td>\n",
       "      <td>Danita Bell</td>\n",
       "      <td>[2, 2]</td>\n",
       "      <td>I have been looking for a case with a handle s...</td>\n",
       "      <td>4.0</td>\n",
       "      <td>Nice Case</td>\n",
       "      <td>1390521600</td>\n",
       "      <td>01 24, 2014</td>\n",
       "      <td>Electronics</td>\n",
       "      <td>1.0</td>\n",
       "    </tr>\n",
       "    <tr>\n",
       "      <th>4</th>\n",
       "      <td>{'$oid': '5a132480741a2384e8a721d9'}</td>\n",
       "      <td>AO8NH0BV82XIE</td>\n",
       "      <td>B00113V748</td>\n",
       "      <td>J. Luu</td>\n",
       "      <td>[3, 3]</td>\n",
       "      <td>I got this for my wife so she can listen to mo...</td>\n",
       "      <td>5.0</td>\n",
       "      <td>Good speakers worthy of all the praise</td>\n",
       "      <td>1214524800</td>\n",
       "      <td>06 27, 2008</td>\n",
       "      <td>Electronics</td>\n",
       "      <td>1.0</td>\n",
       "    </tr>\n",
       "  </tbody>\n",
       "</table>\n",
       "</div>"
      ],
      "text/plain": [
       "                                    _id      reviewerID  ...     category class\n",
       "0  {'$oid': '5a13246c741a2384e8a12ef0'}   AFR4XH8GTRPIM  ...  Electronics   1.0\n",
       "1  {'$oid': '5a1325ae741a2384e80119fc'}  A1FH6RHFF0NPI6  ...  Electronics   1.0\n",
       "2  {'$oid': '5a1325c3741a2384e8084f3e'}  A1HCYVW6U42SI7  ...  Electronics   0.0\n",
       "3  {'$oid': '5a1325bb741a2384e805135c'}  A1KJN3JIU3HJ1Z  ...  Electronics   1.0\n",
       "4  {'$oid': '5a132480741a2384e8a721d9'}   AO8NH0BV82XIE  ...  Electronics   1.0\n",
       "\n",
       "[5 rows x 12 columns]"
      ]
     },
     "execution_count": 6,
     "metadata": {},
     "output_type": "execute_result"
    }
   ],
   "source": [
    "df = df.sample(n=25000, random_state=42).reset_index(drop=True)\n",
    "df.head()"
   ]
  },
  {
   "cell_type": "markdown",
   "id": "c7e38365",
   "metadata": {},
   "source": [
    "**Dropping Unnecessary Columns**"
   ]
  },
  {
   "cell_type": "code",
   "execution_count": 7,
   "id": "759e30ff",
   "metadata": {},
   "outputs": [
    {
     "data": {
      "text/html": [
       "<div>\n",
       "<style scoped>\n",
       "    .dataframe tbody tr th:only-of-type {\n",
       "        vertical-align: middle;\n",
       "    }\n",
       "\n",
       "    .dataframe tbody tr th {\n",
       "        vertical-align: top;\n",
       "    }\n",
       "\n",
       "    .dataframe thead th {\n",
       "        text-align: right;\n",
       "    }\n",
       "</style>\n",
       "<table border=\"1\" class=\"dataframe\">\n",
       "  <thead>\n",
       "    <tr style=\"text-align: right;\">\n",
       "      <th></th>\n",
       "      <th>reviewerID</th>\n",
       "      <th>helpful</th>\n",
       "      <th>reviewText</th>\n",
       "      <th>overall</th>\n",
       "      <th>summary</th>\n",
       "      <th>unixReviewTime</th>\n",
       "      <th>class</th>\n",
       "    </tr>\n",
       "  </thead>\n",
       "  <tbody>\n",
       "    <tr>\n",
       "      <th>0</th>\n",
       "      <td>AFR4XH8GTRPIM</td>\n",
       "      <td>[29, 29]</td>\n",
       "      <td>So let me tell you what this thing is/does. It...</td>\n",
       "      <td>4.0</td>\n",
       "      <td>Simple, just what is needed to find a satellit...</td>\n",
       "      <td>1331942400</td>\n",
       "      <td>1.0</td>\n",
       "    </tr>\n",
       "    <tr>\n",
       "      <th>1</th>\n",
       "      <td>A1FH6RHFF0NPI6</td>\n",
       "      <td>[0, 0]</td>\n",
       "      <td>It was a gift for my son. He LOVES it! He said...</td>\n",
       "      <td>5.0</td>\n",
       "      <td>Love it!</td>\n",
       "      <td>1381190400</td>\n",
       "      <td>1.0</td>\n",
       "    </tr>\n",
       "    <tr>\n",
       "      <th>2</th>\n",
       "      <td>A1HCYVW6U42SI7</td>\n",
       "      <td>[3, 5]</td>\n",
       "      <td>This is what I was worried about.  I didn't re...</td>\n",
       "      <td>2.0</td>\n",
       "      <td>Buy for 3D content only</td>\n",
       "      <td>1398729600</td>\n",
       "      <td>0.0</td>\n",
       "    </tr>\n",
       "    <tr>\n",
       "      <th>3</th>\n",
       "      <td>A1KJN3JIU3HJ1Z</td>\n",
       "      <td>[2, 2]</td>\n",
       "      <td>I have been looking for a case with a handle s...</td>\n",
       "      <td>4.0</td>\n",
       "      <td>Nice Case</td>\n",
       "      <td>1390521600</td>\n",
       "      <td>1.0</td>\n",
       "    </tr>\n",
       "    <tr>\n",
       "      <th>4</th>\n",
       "      <td>AO8NH0BV82XIE</td>\n",
       "      <td>[3, 3]</td>\n",
       "      <td>I got this for my wife so she can listen to mo...</td>\n",
       "      <td>5.0</td>\n",
       "      <td>Good speakers worthy of all the praise</td>\n",
       "      <td>1214524800</td>\n",
       "      <td>1.0</td>\n",
       "    </tr>\n",
       "    <tr>\n",
       "      <th>...</th>\n",
       "      <td>...</td>\n",
       "      <td>...</td>\n",
       "      <td>...</td>\n",
       "      <td>...</td>\n",
       "      <td>...</td>\n",
       "      <td>...</td>\n",
       "      <td>...</td>\n",
       "    </tr>\n",
       "    <tr>\n",
       "      <th>24995</th>\n",
       "      <td>AFZYJ31GTZAGP</td>\n",
       "      <td>[13, 13]</td>\n",
       "      <td>I am a 67 year old woman, 5ft 6, 150 lbs. I've...</td>\n",
       "      <td>4.0</td>\n",
       "      <td>Kata 3n1 20 nit picks</td>\n",
       "      <td>1272326400</td>\n",
       "      <td>1.0</td>\n",
       "    </tr>\n",
       "    <tr>\n",
       "      <th>24996</th>\n",
       "      <td>A3KZPW3F12UI11</td>\n",
       "      <td>[0, 0]</td>\n",
       "      <td>GOOD THINGS:* I activated this modem with Comc...</td>\n",
       "      <td>5.0</td>\n",
       "      <td>Works with COMCAST but NO 2-YEAR WARRANTY</td>\n",
       "      <td>1318550400</td>\n",
       "      <td>1.0</td>\n",
       "    </tr>\n",
       "    <tr>\n",
       "      <th>24997</th>\n",
       "      <td>A3R0RJM7FMZTV1</td>\n",
       "      <td>[0, 0]</td>\n",
       "      <td>The IR extender works great.  It's very reliab...</td>\n",
       "      <td>5.0</td>\n",
       "      <td>The IR extender works great. It's very reliable</td>\n",
       "      <td>1405900800</td>\n",
       "      <td>1.0</td>\n",
       "    </tr>\n",
       "    <tr>\n",
       "      <th>24998</th>\n",
       "      <td>A1LW0PJPYY36W2</td>\n",
       "      <td>[0, 0]</td>\n",
       "      <td>We bought this for our 39&amp;#34; TV and it's per...</td>\n",
       "      <td>5.0</td>\n",
       "      <td>Perfect!</td>\n",
       "      <td>1374796800</td>\n",
       "      <td>1.0</td>\n",
       "    </tr>\n",
       "    <tr>\n",
       "      <th>24999</th>\n",
       "      <td>A4D2RD945FV4R</td>\n",
       "      <td>[0, 0]</td>\n",
       "      <td>I own an HP DV9000I received my charger about ...</td>\n",
       "      <td>4.0</td>\n",
       "      <td>Cautiously otpimistic</td>\n",
       "      <td>1233273600</td>\n",
       "      <td>1.0</td>\n",
       "    </tr>\n",
       "  </tbody>\n",
       "</table>\n",
       "<p>25000 rows × 7 columns</p>\n",
       "</div>"
      ],
      "text/plain": [
       "           reviewerID   helpful  ... unixReviewTime  class\n",
       "0       AFR4XH8GTRPIM  [29, 29]  ...     1331942400    1.0\n",
       "1      A1FH6RHFF0NPI6    [0, 0]  ...     1381190400    1.0\n",
       "2      A1HCYVW6U42SI7    [3, 5]  ...     1398729600    0.0\n",
       "3      A1KJN3JIU3HJ1Z    [2, 2]  ...     1390521600    1.0\n",
       "4       AO8NH0BV82XIE    [3, 3]  ...     1214524800    1.0\n",
       "...               ...       ...  ...            ...    ...\n",
       "24995   AFZYJ31GTZAGP  [13, 13]  ...     1272326400    1.0\n",
       "24996  A3KZPW3F12UI11    [0, 0]  ...     1318550400    1.0\n",
       "24997  A3R0RJM7FMZTV1    [0, 0]  ...     1405900800    1.0\n",
       "24998  A1LW0PJPYY36W2    [0, 0]  ...     1374796800    1.0\n",
       "24999   A4D2RD945FV4R    [0, 0]  ...     1233273600    1.0\n",
       "\n",
       "[25000 rows x 7 columns]"
      ]
     },
     "execution_count": 7,
     "metadata": {},
     "output_type": "execute_result"
    }
   ],
   "source": [
    "df = df.drop(columns=['_id','asin','reviewerName','reviewTime','category'])\n",
    "df"
   ]
  },
  {
   "cell_type": "markdown",
   "id": "abce1203",
   "metadata": {},
   "source": [
    "**DATA PREPROCESSING**"
   ]
  },
  {
   "cell_type": "markdown",
   "id": "e50fdb5f",
   "metadata": {},
   "source": [
    "Converting unix review time to date time format"
   ]
  },
  {
   "cell_type": "code",
   "execution_count": 8,
   "id": "412b0741",
   "metadata": {},
   "outputs": [],
   "source": [
    "df['reviewTime'] = pd.to_datetime(df['unixReviewTime'], unit='s')\n",
    "df.drop(columns=['unixReviewTime'], inplace=True)"
   ]
  },
  {
   "cell_type": "markdown",
   "id": "483f36b7",
   "metadata": {},
   "source": [
    "Lowercase the text"
   ]
  },
  {
   "cell_type": "code",
   "execution_count": 9,
   "id": "da2168eb",
   "metadata": {},
   "outputs": [],
   "source": [
    "df['reviewText'] = df['reviewText'].astype(str).str.lower()\n",
    "df['summary'] = df['summary'].astype(str).str.lower()"
   ]
  },
  {
   "cell_type": "markdown",
   "id": "fe793798",
   "metadata": {},
   "source": [
    "Handle missing values"
   ]
  },
  {
   "cell_type": "code",
   "execution_count": 10,
   "id": "a879cbe1",
   "metadata": {},
   "outputs": [
    {
     "data": {
      "text/plain": [
       "reviewerID    0\n",
       "helpful       0\n",
       "reviewText    0\n",
       "overall       0\n",
       "summary       0\n",
       "class         0\n",
       "reviewTime    0\n",
       "dtype: int64"
      ]
     },
     "execution_count": 10,
     "metadata": {},
     "output_type": "execute_result"
    }
   ],
   "source": [
    "df.isna().sum()"
   ]
  },
  {
   "cell_type": "markdown",
   "id": "962f341c",
   "metadata": {},
   "source": [
    "Combining review text and summary "
   ]
  },
  {
   "cell_type": "code",
   "execution_count": 11,
   "id": "68ca2492",
   "metadata": {},
   "outputs": [
    {
     "data": {
      "text/html": [
       "<div>\n",
       "<style scoped>\n",
       "    .dataframe tbody tr th:only-of-type {\n",
       "        vertical-align: middle;\n",
       "    }\n",
       "\n",
       "    .dataframe tbody tr th {\n",
       "        vertical-align: top;\n",
       "    }\n",
       "\n",
       "    .dataframe thead th {\n",
       "        text-align: right;\n",
       "    }\n",
       "</style>\n",
       "<table border=\"1\" class=\"dataframe\">\n",
       "  <thead>\n",
       "    <tr style=\"text-align: right;\">\n",
       "      <th></th>\n",
       "      <th>reviewerID</th>\n",
       "      <th>helpful</th>\n",
       "      <th>overall</th>\n",
       "      <th>class</th>\n",
       "      <th>reviewTime</th>\n",
       "      <th>text</th>\n",
       "    </tr>\n",
       "  </thead>\n",
       "  <tbody>\n",
       "    <tr>\n",
       "      <th>0</th>\n",
       "      <td>AFR4XH8GTRPIM</td>\n",
       "      <td>[29, 29]</td>\n",
       "      <td>4.0</td>\n",
       "      <td>1.0</td>\n",
       "      <td>2012-03-17</td>\n",
       "      <td>simple, just what is needed to find a satellit...</td>\n",
       "    </tr>\n",
       "    <tr>\n",
       "      <th>1</th>\n",
       "      <td>A1FH6RHFF0NPI6</td>\n",
       "      <td>[0, 0]</td>\n",
       "      <td>5.0</td>\n",
       "      <td>1.0</td>\n",
       "      <td>2013-10-08</td>\n",
       "      <td>love it!. it was a gift for my son. he loves i...</td>\n",
       "    </tr>\n",
       "    <tr>\n",
       "      <th>2</th>\n",
       "      <td>A1HCYVW6U42SI7</td>\n",
       "      <td>[3, 5]</td>\n",
       "      <td>2.0</td>\n",
       "      <td>0.0</td>\n",
       "      <td>2014-04-29</td>\n",
       "      <td>buy for 3d content only. this is what i was wo...</td>\n",
       "    </tr>\n",
       "    <tr>\n",
       "      <th>3</th>\n",
       "      <td>A1KJN3JIU3HJ1Z</td>\n",
       "      <td>[2, 2]</td>\n",
       "      <td>4.0</td>\n",
       "      <td>1.0</td>\n",
       "      <td>2014-01-24</td>\n",
       "      <td>nice case. i have been looking for a case with...</td>\n",
       "    </tr>\n",
       "    <tr>\n",
       "      <th>4</th>\n",
       "      <td>AO8NH0BV82XIE</td>\n",
       "      <td>[3, 3]</td>\n",
       "      <td>5.0</td>\n",
       "      <td>1.0</td>\n",
       "      <td>2008-06-27</td>\n",
       "      <td>good speakers worthy of all the praise. i got ...</td>\n",
       "    </tr>\n",
       "    <tr>\n",
       "      <th>...</th>\n",
       "      <td>...</td>\n",
       "      <td>...</td>\n",
       "      <td>...</td>\n",
       "      <td>...</td>\n",
       "      <td>...</td>\n",
       "      <td>...</td>\n",
       "    </tr>\n",
       "    <tr>\n",
       "      <th>24995</th>\n",
       "      <td>AFZYJ31GTZAGP</td>\n",
       "      <td>[13, 13]</td>\n",
       "      <td>4.0</td>\n",
       "      <td>1.0</td>\n",
       "      <td>2010-04-27</td>\n",
       "      <td>kata 3n1 20 nit picks. i am a 67 year old woma...</td>\n",
       "    </tr>\n",
       "    <tr>\n",
       "      <th>24996</th>\n",
       "      <td>A3KZPW3F12UI11</td>\n",
       "      <td>[0, 0]</td>\n",
       "      <td>5.0</td>\n",
       "      <td>1.0</td>\n",
       "      <td>2011-10-14</td>\n",
       "      <td>works with comcast but no 2-year warranty. goo...</td>\n",
       "    </tr>\n",
       "    <tr>\n",
       "      <th>24997</th>\n",
       "      <td>A3R0RJM7FMZTV1</td>\n",
       "      <td>[0, 0]</td>\n",
       "      <td>5.0</td>\n",
       "      <td>1.0</td>\n",
       "      <td>2014-07-21</td>\n",
       "      <td>the ir extender works great. it's very reliabl...</td>\n",
       "    </tr>\n",
       "    <tr>\n",
       "      <th>24998</th>\n",
       "      <td>A1LW0PJPYY36W2</td>\n",
       "      <td>[0, 0]</td>\n",
       "      <td>5.0</td>\n",
       "      <td>1.0</td>\n",
       "      <td>2013-07-26</td>\n",
       "      <td>perfect!. we bought this for our 39&amp;#34; tv an...</td>\n",
       "    </tr>\n",
       "    <tr>\n",
       "      <th>24999</th>\n",
       "      <td>A4D2RD945FV4R</td>\n",
       "      <td>[0, 0]</td>\n",
       "      <td>4.0</td>\n",
       "      <td>1.0</td>\n",
       "      <td>2009-01-30</td>\n",
       "      <td>cautiously otpimistic. i own an hp dv9000i rec...</td>\n",
       "    </tr>\n",
       "  </tbody>\n",
       "</table>\n",
       "<p>25000 rows × 6 columns</p>\n",
       "</div>"
      ],
      "text/plain": [
       "           reviewerID  ...                                               text\n",
       "0       AFR4XH8GTRPIM  ...  simple, just what is needed to find a satellit...\n",
       "1      A1FH6RHFF0NPI6  ...  love it!. it was a gift for my son. he loves i...\n",
       "2      A1HCYVW6U42SI7  ...  buy for 3d content only. this is what i was wo...\n",
       "3      A1KJN3JIU3HJ1Z  ...  nice case. i have been looking for a case with...\n",
       "4       AO8NH0BV82XIE  ...  good speakers worthy of all the praise. i got ...\n",
       "...               ...  ...                                                ...\n",
       "24995   AFZYJ31GTZAGP  ...  kata 3n1 20 nit picks. i am a 67 year old woma...\n",
       "24996  A3KZPW3F12UI11  ...  works with comcast but no 2-year warranty. goo...\n",
       "24997  A3R0RJM7FMZTV1  ...  the ir extender works great. it's very reliabl...\n",
       "24998  A1LW0PJPYY36W2  ...  perfect!. we bought this for our 39&#34; tv an...\n",
       "24999   A4D2RD945FV4R  ...  cautiously otpimistic. i own an hp dv9000i rec...\n",
       "\n",
       "[25000 rows x 6 columns]"
      ]
     },
     "execution_count": 11,
     "metadata": {},
     "output_type": "execute_result"
    }
   ],
   "source": [
    "df['text'] = df['summary'] + \". \" + df['reviewText']\n",
    "df = df.drop(columns=['reviewText','summary'], axis='columns')\n",
    "df"
   ]
  },
  {
   "cell_type": "markdown",
   "id": "02e58cfa",
   "metadata": {},
   "source": [
    "Handling duplicates"
   ]
  },
  {
   "cell_type": "code",
   "execution_count": 12,
   "id": "d930bd35",
   "metadata": {},
   "outputs": [
    {
     "data": {
      "text/html": [
       "<div>\n",
       "<style scoped>\n",
       "    .dataframe tbody tr th:only-of-type {\n",
       "        vertical-align: middle;\n",
       "    }\n",
       "\n",
       "    .dataframe tbody tr th {\n",
       "        vertical-align: top;\n",
       "    }\n",
       "\n",
       "    .dataframe thead th {\n",
       "        text-align: right;\n",
       "    }\n",
       "</style>\n",
       "<table border=\"1\" class=\"dataframe\">\n",
       "  <thead>\n",
       "    <tr style=\"text-align: right;\">\n",
       "      <th></th>\n",
       "      <th>reviewerID</th>\n",
       "      <th>helpful</th>\n",
       "      <th>overall</th>\n",
       "      <th>class</th>\n",
       "      <th>reviewTime</th>\n",
       "      <th>text</th>\n",
       "    </tr>\n",
       "  </thead>\n",
       "  <tbody>\n",
       "    <tr>\n",
       "      <th>0</th>\n",
       "      <td>AFR4XH8GTRPIM</td>\n",
       "      <td>[29, 29]</td>\n",
       "      <td>4.0</td>\n",
       "      <td>1.0</td>\n",
       "      <td>2012-03-17</td>\n",
       "      <td>simple, just what is needed to find a satellit...</td>\n",
       "    </tr>\n",
       "    <tr>\n",
       "      <th>1</th>\n",
       "      <td>A1FH6RHFF0NPI6</td>\n",
       "      <td>[0, 0]</td>\n",
       "      <td>5.0</td>\n",
       "      <td>1.0</td>\n",
       "      <td>2013-10-08</td>\n",
       "      <td>love it!. it was a gift for my son. he loves i...</td>\n",
       "    </tr>\n",
       "    <tr>\n",
       "      <th>2</th>\n",
       "      <td>A1HCYVW6U42SI7</td>\n",
       "      <td>[3, 5]</td>\n",
       "      <td>2.0</td>\n",
       "      <td>0.0</td>\n",
       "      <td>2014-04-29</td>\n",
       "      <td>buy for 3d content only. this is what i was wo...</td>\n",
       "    </tr>\n",
       "    <tr>\n",
       "      <th>3</th>\n",
       "      <td>A1KJN3JIU3HJ1Z</td>\n",
       "      <td>[2, 2]</td>\n",
       "      <td>4.0</td>\n",
       "      <td>1.0</td>\n",
       "      <td>2014-01-24</td>\n",
       "      <td>nice case. i have been looking for a case with...</td>\n",
       "    </tr>\n",
       "    <tr>\n",
       "      <th>4</th>\n",
       "      <td>AO8NH0BV82XIE</td>\n",
       "      <td>[3, 3]</td>\n",
       "      <td>5.0</td>\n",
       "      <td>1.0</td>\n",
       "      <td>2008-06-27</td>\n",
       "      <td>good speakers worthy of all the praise. i got ...</td>\n",
       "    </tr>\n",
       "    <tr>\n",
       "      <th>...</th>\n",
       "      <td>...</td>\n",
       "      <td>...</td>\n",
       "      <td>...</td>\n",
       "      <td>...</td>\n",
       "      <td>...</td>\n",
       "      <td>...</td>\n",
       "    </tr>\n",
       "    <tr>\n",
       "      <th>24991</th>\n",
       "      <td>AFZYJ31GTZAGP</td>\n",
       "      <td>[13, 13]</td>\n",
       "      <td>4.0</td>\n",
       "      <td>1.0</td>\n",
       "      <td>2010-04-27</td>\n",
       "      <td>kata 3n1 20 nit picks. i am a 67 year old woma...</td>\n",
       "    </tr>\n",
       "    <tr>\n",
       "      <th>24992</th>\n",
       "      <td>A3KZPW3F12UI11</td>\n",
       "      <td>[0, 0]</td>\n",
       "      <td>5.0</td>\n",
       "      <td>1.0</td>\n",
       "      <td>2011-10-14</td>\n",
       "      <td>works with comcast but no 2-year warranty. goo...</td>\n",
       "    </tr>\n",
       "    <tr>\n",
       "      <th>24993</th>\n",
       "      <td>A3R0RJM7FMZTV1</td>\n",
       "      <td>[0, 0]</td>\n",
       "      <td>5.0</td>\n",
       "      <td>1.0</td>\n",
       "      <td>2014-07-21</td>\n",
       "      <td>the ir extender works great. it's very reliabl...</td>\n",
       "    </tr>\n",
       "    <tr>\n",
       "      <th>24994</th>\n",
       "      <td>A1LW0PJPYY36W2</td>\n",
       "      <td>[0, 0]</td>\n",
       "      <td>5.0</td>\n",
       "      <td>1.0</td>\n",
       "      <td>2013-07-26</td>\n",
       "      <td>perfect!. we bought this for our 39&amp;#34; tv an...</td>\n",
       "    </tr>\n",
       "    <tr>\n",
       "      <th>24995</th>\n",
       "      <td>A4D2RD945FV4R</td>\n",
       "      <td>[0, 0]</td>\n",
       "      <td>4.0</td>\n",
       "      <td>1.0</td>\n",
       "      <td>2009-01-30</td>\n",
       "      <td>cautiously otpimistic. i own an hp dv9000i rec...</td>\n",
       "    </tr>\n",
       "  </tbody>\n",
       "</table>\n",
       "<p>24996 rows × 6 columns</p>\n",
       "</div>"
      ],
      "text/plain": [
       "           reviewerID  ...                                               text\n",
       "0       AFR4XH8GTRPIM  ...  simple, just what is needed to find a satellit...\n",
       "1      A1FH6RHFF0NPI6  ...  love it!. it was a gift for my son. he loves i...\n",
       "2      A1HCYVW6U42SI7  ...  buy for 3d content only. this is what i was wo...\n",
       "3      A1KJN3JIU3HJ1Z  ...  nice case. i have been looking for a case with...\n",
       "4       AO8NH0BV82XIE  ...  good speakers worthy of all the praise. i got ...\n",
       "...               ...  ...                                                ...\n",
       "24991   AFZYJ31GTZAGP  ...  kata 3n1 20 nit picks. i am a 67 year old woma...\n",
       "24992  A3KZPW3F12UI11  ...  works with comcast but no 2-year warranty. goo...\n",
       "24993  A3R0RJM7FMZTV1  ...  the ir extender works great. it's very reliabl...\n",
       "24994  A1LW0PJPYY36W2  ...  perfect!. we bought this for our 39&#34; tv an...\n",
       "24995   A4D2RD945FV4R  ...  cautiously otpimistic. i own an hp dv9000i rec...\n",
       "\n",
       "[24996 rows x 6 columns]"
      ]
     },
     "execution_count": 12,
     "metadata": {},
     "output_type": "execute_result"
    }
   ],
   "source": [
    "df.drop_duplicates(subset=['text'], inplace=True)\n",
    "df.reset_index(drop=True, inplace=True)\n",
    "df"
   ]
  },
  {
   "cell_type": "markdown",
   "id": "654eee0b",
   "metadata": {},
   "source": [
    "Add reviewer frequency"
   ]
  },
  {
   "cell_type": "code",
   "execution_count": 13,
   "id": "a007e946",
   "metadata": {},
   "outputs": [],
   "source": [
    "review_count = df['reviewerID'].value_counts()\n",
    "df['reviewFreq'] = df['reviewerID'].map(review_count)"
   ]
  },
  {
   "cell_type": "markdown",
   "id": "f27df389",
   "metadata": {},
   "source": [
    "Class Balance"
   ]
  },
  {
   "cell_type": "code",
   "execution_count": 14,
   "id": "47e049c0",
   "metadata": {},
   "outputs": [
    {
     "data": {
      "text/plain": [
       "class\n",
       "1.0    19024\n",
       "0.0     5972\n",
       "Name: count, dtype: int64"
      ]
     },
     "execution_count": 14,
     "metadata": {},
     "output_type": "execute_result"
    }
   ],
   "source": [
    "df['class'].value_counts()"
   ]
  },
  {
   "cell_type": "code",
   "execution_count": 15,
   "id": "ee2527c3",
   "metadata": {},
   "outputs": [],
   "source": [
    "minority_df = df[df['class'] == 0.0]\n",
    "majority_df = df[df['class'] == 1.0].sample(n=len(minority_df), random_state=42)\n",
    "\n",
    "df = pd.concat([minority_df, majority_df]).sample(frac=1, random_state=42).reset_index(drop=True)"
   ]
  },
  {
   "cell_type": "markdown",
   "id": "5a662f93",
   "metadata": {},
   "source": [
    "**TEXT CLEANING**"
   ]
  },
  {
   "cell_type": "code",
   "execution_count": 16,
   "id": "9e01ecab",
   "metadata": {},
   "outputs": [],
   "source": [
    "import spacy\n",
    "import re\n",
    "from tqdm import tqdm"
   ]
  },
  {
   "cell_type": "markdown",
   "id": "dfb46c72",
   "metadata": {},
   "source": [
    "Load english tokenizer"
   ]
  },
  {
   "cell_type": "code",
   "execution_count": 17,
   "id": "d5043426",
   "metadata": {},
   "outputs": [],
   "source": [
    "nlp = spacy.load(\"en_core_web_sm\", disable=[\"ner\", \"parser\", \"tagger\"])"
   ]
  },
  {
   "cell_type": "code",
   "execution_count": 18,
   "id": "51bcc263",
   "metadata": {},
   "outputs": [],
   "source": [
    "def clean_texts(text_list):\n",
    "    cleaned_reviews = []\n",
    "\n",
    "    # Pre-clean the text (lowercase, remove HTML, URLs, extra spaces)\n",
    "    preprocessed = []\n",
    "    for text in text_list:\n",
    "        text = text.lower()\n",
    "        text = re.sub(r'<.*?>', '', text)\n",
    "        text = re.sub(r'http\\S+|www.\\S+|https\\S+', '', text)\n",
    "        text = re.sub(r'\\s+', ' ', text)\n",
    "        preprocessed.append(text)\n",
    "\n",
    "    # Use spaCy's nlp.pipe for fast tokenization & lemmatization\n",
    "    for doc in tqdm(nlp.pipe(preprocessed, batch_size=100), total=len(preprocessed), desc=\"Cleaning Reviews\"):\n",
    "        tokens = [token.lemma_ for token in doc if token.is_alpha and not token.is_stop]\n",
    "        cleaned_reviews.append(\" \".join(tokens))\n",
    "\n",
    "    return cleaned_reviews\n"
   ]
  },
  {
   "cell_type": "code",
   "execution_count": 19,
   "id": "da56f139",
   "metadata": {},
   "outputs": [
    {
     "name": "stderr",
     "output_type": "stream",
     "text": [
      "Cleaning Reviews:   0%|          | 0/11944 [00:00<?, ?it/s]c:\\Users\\Divyanshu Gaur\\AppData\\Local\\Programs\\Python\\Python313\\Lib\\site-packages\\spacy\\pipeline\\lemmatizer.py:188: UserWarning: [W108] The rule-based lemmatizer did not find POS annotation for one or more tokens. Check that your pipeline includes components that assign token.pos, typically 'tagger'+'attribute_ruler' or 'morphologizer'.\n",
      "  warnings.warn(Warnings.W108)\n",
      "Cleaning Reviews: 100%|██████████| 11944/11944 [01:38<00:00, 120.69it/s]\n"
     ]
    }
   ],
   "source": [
    "df['text'] = clean_texts(df['text'].tolist())"
   ]
  },
  {
   "cell_type": "code",
   "execution_count": 20,
   "id": "adb45910",
   "metadata": {},
   "outputs": [
    {
     "data": {
      "text/html": [
       "<div>\n",
       "<style scoped>\n",
       "    .dataframe tbody tr th:only-of-type {\n",
       "        vertical-align: middle;\n",
       "    }\n",
       "\n",
       "    .dataframe tbody tr th {\n",
       "        vertical-align: top;\n",
       "    }\n",
       "\n",
       "    .dataframe thead th {\n",
       "        text-align: right;\n",
       "    }\n",
       "</style>\n",
       "<table border=\"1\" class=\"dataframe\">\n",
       "  <thead>\n",
       "    <tr style=\"text-align: right;\">\n",
       "      <th></th>\n",
       "      <th>reviewerID</th>\n",
       "      <th>helpful</th>\n",
       "      <th>overall</th>\n",
       "      <th>class</th>\n",
       "      <th>reviewTime</th>\n",
       "      <th>text</th>\n",
       "      <th>reviewFreq</th>\n",
       "    </tr>\n",
       "  </thead>\n",
       "  <tbody>\n",
       "    <tr>\n",
       "      <th>0</th>\n",
       "      <td>A2XHOLOLKGV1FE</td>\n",
       "      <td>[2, 4]</td>\n",
       "      <td>2.0</td>\n",
       "      <td>0.0</td>\n",
       "      <td>2012-12-22</td>\n",
       "      <td>eye piercing blue power led bright blue light ...</td>\n",
       "      <td>1</td>\n",
       "    </tr>\n",
       "    <tr>\n",
       "      <th>1</th>\n",
       "      <td>A1H1HWYHYHLZPS</td>\n",
       "      <td>[1, 2]</td>\n",
       "      <td>1.0</td>\n",
       "      <td>0.0</td>\n",
       "      <td>2013-02-19</td>\n",
       "      <td>star generous sucky tinny cheap garbled sound ...</td>\n",
       "      <td>1</td>\n",
       "    </tr>\n",
       "    <tr>\n",
       "      <th>2</th>\n",
       "      <td>A30L5WRJM93TEF</td>\n",
       "      <td>[0, 0]</td>\n",
       "      <td>5.0</td>\n",
       "      <td>1.0</td>\n",
       "      <td>2013-03-19</td>\n",
       "      <td>looking perfect mouse button love mouse fits s...</td>\n",
       "      <td>1</td>\n",
       "    </tr>\n",
       "    <tr>\n",
       "      <th>3</th>\n",
       "      <td>A156UC77S3FFTI</td>\n",
       "      <td>[0, 0]</td>\n",
       "      <td>3.0</td>\n",
       "      <td>0.0</td>\n",
       "      <td>2013-10-23</td>\n",
       "      <td>job bought install car cd player chevy camaro ...</td>\n",
       "      <td>1</td>\n",
       "    </tr>\n",
       "    <tr>\n",
       "      <th>4</th>\n",
       "      <td>ANALOM35NWNNF</td>\n",
       "      <td>[1, 1]</td>\n",
       "      <td>5.0</td>\n",
       "      <td>1.0</td>\n",
       "      <td>2013-01-12</td>\n",
       "      <td>cheap works canon black felt inside difference...</td>\n",
       "      <td>1</td>\n",
       "    </tr>\n",
       "  </tbody>\n",
       "</table>\n",
       "</div>"
      ],
      "text/plain": [
       "       reviewerID  ... reviewFreq\n",
       "0  A2XHOLOLKGV1FE  ...          1\n",
       "1  A1H1HWYHYHLZPS  ...          1\n",
       "2  A30L5WRJM93TEF  ...          1\n",
       "3  A156UC77S3FFTI  ...          1\n",
       "4   ANALOM35NWNNF  ...          1\n",
       "\n",
       "[5 rows x 7 columns]"
      ]
     },
     "execution_count": 20,
     "metadata": {},
     "output_type": "execute_result"
    }
   ],
   "source": [
    "df.head()"
   ]
  },
  {
   "cell_type": "markdown",
   "id": "8123b48d",
   "metadata": {},
   "source": [
    "**TEXT VECTORIZATION**"
   ]
  },
  {
   "cell_type": "code",
   "execution_count": 21,
   "id": "204dd2e2",
   "metadata": {},
   "outputs": [],
   "source": [
    "from sklearn.feature_extraction.text import TfidfVectorizer"
   ]
  },
  {
   "cell_type": "code",
   "execution_count": 22,
   "id": "6330942c",
   "metadata": {},
   "outputs": [],
   "source": [
    "vectorizer = TfidfVectorizer(max_features=10000, ngram_range=(1, 2), stop_words='english')"
   ]
  },
  {
   "cell_type": "code",
   "execution_count": 23,
   "id": "d110249f",
   "metadata": {},
   "outputs": [],
   "source": [
    "text_features = vectorizer.fit_transform(df['text'])"
   ]
  },
  {
   "cell_type": "markdown",
   "id": "9519ecb0",
   "metadata": {},
   "source": [
    "**SCALING DATA**"
   ]
  },
  {
   "cell_type": "code",
   "execution_count": 30,
   "id": "f2802e2f",
   "metadata": {},
   "outputs": [],
   "source": [
    "from sklearn.preprocessing import MinMaxScaler"
   ]
  },
  {
   "cell_type": "code",
   "execution_count": 31,
   "id": "ad6bb293",
   "metadata": {},
   "outputs": [],
   "source": [
    "scaler = MinMaxScaler()\n",
    "review_freq_scaled = scaler.fit_transform(df[['reviewFreq']])"
   ]
  },
  {
   "cell_type": "markdown",
   "id": "1ec54671",
   "metadata": {},
   "source": [
    "**SEPERATING FEATURE AND TARGET**"
   ]
  },
  {
   "cell_type": "code",
   "execution_count": 32,
   "id": "6f419e38",
   "metadata": {},
   "outputs": [],
   "source": [
    "from scipy.sparse import hstack"
   ]
  },
  {
   "cell_type": "code",
   "execution_count": 33,
   "id": "abf6a0cc",
   "metadata": {},
   "outputs": [],
   "source": [
    "X = hstack([text_features, review_freq_scaled])\n",
    "y = df['class']"
   ]
  },
  {
   "cell_type": "markdown",
   "id": "5598a1fc",
   "metadata": {},
   "source": [
    "**TRAIN TEST SPLIT**"
   ]
  },
  {
   "cell_type": "code",
   "execution_count": 34,
   "id": "8b4f3d91",
   "metadata": {},
   "outputs": [],
   "source": [
    "from sklearn.model_selection import train_test_split\n",
    "X_train, X_test, y_train, y_test = train_test_split(X, y, test_size=0.2, random_state=42)"
   ]
  },
  {
   "cell_type": "markdown",
   "id": "2852c68c",
   "metadata": {},
   "source": [
    "**MODEL TRAINING**"
   ]
  },
  {
   "cell_type": "code",
   "execution_count": 36,
   "id": "7f4aff09",
   "metadata": {},
   "outputs": [],
   "source": [
    "from sklearn.linear_model import LogisticRegression\n",
    "from sklearn.naive_bayes import MultinomialNB\n",
    "from sklearn.ensemble import RandomForestClassifier\n",
    "from sklearn.svm import SVC, LinearSVC\n",
    "from sklearn.metrics import accuracy_score, precision_score, recall_score, f1_score\n",
    "import time"
   ]
  },
  {
   "cell_type": "code",
   "execution_count": 37,
   "id": "4321bae0",
   "metadata": {},
   "outputs": [],
   "source": [
    "models = [LogisticRegression(), MultinomialNB(), RandomForestClassifier(n_estimators=100, random_state=42), LinearSVC(), SVC()]\n",
    "model_names = ['Logistic Regression', 'Multinomial Naive Bayes', 'Random Forest', 'Linear SVC', 'SVC']"
   ]
  },
  {
   "cell_type": "code",
   "execution_count": 38,
   "id": "3924e128",
   "metadata": {},
   "outputs": [
    {
     "name": "stdout",
     "output_type": "stream",
     "text": [
      "----- Logistic Regression -----\n",
      "Accuracy: 0.8614\n",
      "Precision: 0.8579\n",
      "Recall: 0.8658\n",
      "F1 Score: 0.8618\n",
      "Time taken: 0.15 seconds\n",
      "\n",
      "----- Multinomial Naive Bayes -----\n",
      "Accuracy: 0.8518\n",
      "Precision: 0.8374\n",
      "Recall: 0.8725\n",
      "F1 Score: 0.8546\n",
      "Time taken: 0.01 seconds\n",
      "\n",
      "----- Random Forest -----\n",
      "Accuracy: 0.8359\n",
      "Precision: 0.8367\n",
      "Recall: 0.8339\n",
      "F1 Score: 0.8353\n",
      "Time taken: 16.23 seconds\n",
      "\n",
      "----- Linear SVC -----\n",
      "Accuracy: 0.8439\n",
      "Precision: 0.8450\n",
      "Recall: 0.8414\n",
      "F1 Score: 0.8432\n",
      "Time taken: 0.09 seconds\n",
      "\n",
      "----- SVC -----\n",
      "Accuracy: 0.8614\n",
      "Precision: 0.8621\n",
      "Recall: 0.8599\n",
      "F1 Score: 0.8610\n",
      "Time taken: 46.71 seconds\n",
      "\n"
     ]
    }
   ],
   "source": [
    "for model, name in zip(models, model_names):\n",
    "    start_time = time.time()\n",
    "    model.fit(X_train, y_train)\n",
    "    y_pred = model.predict(X_test)\n",
    "\n",
    "    print(f\"----- {name} -----\")\n",
    "    print(f\"Accuracy: {accuracy_score(y_test, y_pred):.4f}\")\n",
    "    print(f\"Precision: {precision_score(y_test, y_pred):.4f}\")\n",
    "    print(f\"Recall: {recall_score(y_test, y_pred):.4f}\")\n",
    "    print(f\"F1 Score: {f1_score(y_test, y_pred):.4f}\")\n",
    "    print(f\"Time taken: {time.time() - start_time:.2f} seconds\\n\")"
   ]
  },
  {
   "cell_type": "code",
   "execution_count": 39,
   "id": "d1471259",
   "metadata": {},
   "outputs": [
    {
     "name": "stdout",
     "output_type": "stream",
     "text": [
      "Voting Classifier Metrics:\n",
      "Accuracy : 0.8635412306404353\n",
      "Precision: 0.8572607260726073\n",
      "Recall   : 0.8716442953020134\n",
      "F1 Score : 0.8643926788685524\n"
     ]
    }
   ],
   "source": [
    "from sklearn.ensemble import VotingClassifier\n",
    "\n",
    "# Create individual models\n",
    "log_clf = LogisticRegression(max_iter=1000)\n",
    "nb_clf = MultinomialNB()\n",
    "rf_clf = RandomForestClassifier(n_estimators=100, random_state=42)\n",
    "\n",
    "# Combine them in a VotingClassifier\n",
    "voting_clf = VotingClassifier(\n",
    "    estimators=[\n",
    "        ('lr', log_clf),\n",
    "        ('nb', nb_clf),\n",
    "        ('rf', rf_clf)\n",
    "    ],\n",
    "    voting='soft'  # Use 'soft' if all models support predict_proba (better than hard voting)\n",
    ")\n",
    "\n",
    "# Fit and evaluate\n",
    "voting_clf.fit(X_train, y_train)\n",
    "y_pred = voting_clf.predict(X_test)\n",
    "\n",
    "print(\"Voting Classifier Metrics:\")\n",
    "print(\"Accuracy :\", accuracy_score(y_test, y_pred))\n",
    "print(\"Precision:\", precision_score(y_test, y_pred))\n",
    "print(\"Recall   :\", recall_score(y_test, y_pred))\n",
    "print(\"F1 Score :\", f1_score(y_test, y_pred))\n"
   ]
  },
  {
   "cell_type": "code",
   "execution_count": 41,
   "id": "81cd4e49",
   "metadata": {},
   "outputs": [
    {
     "name": "stdout",
     "output_type": "stream",
     "text": [
      "Gradient Boosting Classifier Metrics:\n",
      "Accuracy: 0.7944746755964839\n",
      "Precision: 0.8236380424746076\n",
      "Recall: 0.7483221476510067\n",
      "F1 Score: 0.7841758241758242\n"
     ]
    }
   ],
   "source": [
    "from sklearn.ensemble import GradientBoostingClassifier\n",
    "\n",
    "gb_model = GradientBoostingClassifier()\n",
    "gb_model.fit(X_train, y_train)\n",
    "gb_preds = gb_model.predict(X_test)\n",
    "\n",
    "print(\"Gradient Boosting Classifier Metrics:\")\n",
    "print(\"Accuracy:\", accuracy_score(y_test, gb_preds))\n",
    "print(\"Precision:\", precision_score(y_test, gb_preds))\n",
    "print(\"Recall:\", recall_score(y_test, gb_preds))\n",
    "print(\"F1 Score:\", f1_score(y_test, gb_preds))\n"
   ]
  },
  {
   "cell_type": "code",
   "execution_count": null,
   "id": "60368235",
   "metadata": {},
   "outputs": [],
   "source": []
  }
 ],
 "metadata": {
  "kernelspec": {
   "display_name": "Python 3",
   "language": "python",
   "name": "python3"
  },
  "language_info": {
   "codemirror_mode": {
    "name": "ipython",
    "version": 3
   },
   "file_extension": ".py",
   "mimetype": "text/x-python",
   "name": "python",
   "nbconvert_exporter": "python",
   "pygments_lexer": "ipython3",
   "version": "3.13.0"
  }
 },
 "nbformat": 4,
 "nbformat_minor": 5
}
